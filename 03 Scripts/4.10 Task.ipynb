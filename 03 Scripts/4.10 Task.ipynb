{
 "cells": [
  {
   "cell_type": "markdown",
   "id": "f800643e",
   "metadata": {},
   "source": [
    "# Importing libraries"
   ]
  },
  {
   "cell_type": "code",
   "execution_count": 1,
   "id": "f9d4bfa1",
   "metadata": {},
   "outputs": [],
   "source": [
    "# Import Libraries\n",
    "import pandas as pd\n",
    "import numpy as np\n",
    "import os\n",
    "import matplotlib.pyplot as plt\n",
    "import seaborn as sns\n",
    "import scipy"
   ]
  },
  {
   "cell_type": "markdown",
   "id": "0a3ae248",
   "metadata": {},
   "source": [
    "# Import data"
   ]
  },
  {
   "cell_type": "code",
   "execution_count": 2,
   "id": "964256d2",
   "metadata": {},
   "outputs": [
    {
     "data": {
      "text/plain": [
       "'/Users/medhavi/Desktop/Jinal/EXERCISE 4/Instacart Basket Analysis 19.06'"
      ]
     },
     "execution_count": 2,
     "metadata": {},
     "output_type": "execute_result"
    }
   ],
   "source": [
    "# Defining Path\n",
    "\n",
    "path = r'/Users/medhavi/Desktop/Jinal/EXERCISE 4/Instacart Basket Analysis 19.06'\n",
    "path"
   ]
  },
  {
   "cell_type": "code",
   "execution_count": 3,
   "id": "7ac719a6",
   "metadata": {},
   "outputs": [],
   "source": [
    "# Importing orders_products_merged_grouping.pkl dataframe\n",
    "df_cust_merge = pd.read_pickle(os.path.join(path, '02 Data', 'Prepared Data', 'customer_ords_prods_merged.pkl'))"
   ]
  },
  {
   "cell_type": "code",
   "execution_count": 4,
   "id": "75df3212",
   "metadata": {},
   "outputs": [],
   "source": [
    "# Importing orders_products_merged_grouping.pkl dataframe\n",
    "ords_prods_group = pd.read_pickle(os.path.join(path, '02 Data', 'Prepared Data', 'orders_products_merged_updated_2.pkl'))"
   ]
  },
  {
   "cell_type": "code",
   "execution_count": 5,
   "id": "cc9f7077",
   "metadata": {},
   "outputs": [
    {
     "data": {
      "text/html": [
       "<div>\n",
       "<style scoped>\n",
       "    .dataframe tbody tr th:only-of-type {\n",
       "        vertical-align: middle;\n",
       "    }\n",
       "\n",
       "    .dataframe tbody tr th {\n",
       "        vertical-align: top;\n",
       "    }\n",
       "\n",
       "    .dataframe thead th {\n",
       "        text-align: right;\n",
       "    }\n",
       "</style>\n",
       "<table border=\"1\" class=\"dataframe\">\n",
       "  <thead>\n",
       "    <tr style=\"text-align: right;\">\n",
       "      <th></th>\n",
       "      <th>order_id</th>\n",
       "      <th>user_id</th>\n",
       "      <th>eval_set</th>\n",
       "      <th>order_number</th>\n",
       "      <th>order_dow</th>\n",
       "      <th>order_hour_of_day</th>\n",
       "      <th>days_since_prior_order</th>\n",
       "      <th>product_id</th>\n",
       "      <th>add_to_cart_order</th>\n",
       "      <th>reordered</th>\n",
       "      <th>...</th>\n",
       "      <th>order_frequency_flag</th>\n",
       "      <th>First Name</th>\n",
       "      <th>Last Name</th>\n",
       "      <th>Gender</th>\n",
       "      <th>State</th>\n",
       "      <th>Age</th>\n",
       "      <th>date_joined</th>\n",
       "      <th>n_dependants</th>\n",
       "      <th>fam_status</th>\n",
       "      <th>income</th>\n",
       "    </tr>\n",
       "  </thead>\n",
       "  <tbody>\n",
       "    <tr>\n",
       "      <th>0</th>\n",
       "      <td>2539329</td>\n",
       "      <td>1</td>\n",
       "      <td>prior</td>\n",
       "      <td>1</td>\n",
       "      <td>2</td>\n",
       "      <td>8</td>\n",
       "      <td>NaN</td>\n",
       "      <td>196</td>\n",
       "      <td>1</td>\n",
       "      <td>0</td>\n",
       "      <td>...</td>\n",
       "      <td>Non-frequent customer</td>\n",
       "      <td>Linda</td>\n",
       "      <td>Nguyen</td>\n",
       "      <td>Female</td>\n",
       "      <td>Alabama</td>\n",
       "      <td>31</td>\n",
       "      <td>2/17/2019</td>\n",
       "      <td>3</td>\n",
       "      <td>married</td>\n",
       "      <td>40423</td>\n",
       "    </tr>\n",
       "    <tr>\n",
       "      <th>1</th>\n",
       "      <td>2398795</td>\n",
       "      <td>1</td>\n",
       "      <td>prior</td>\n",
       "      <td>2</td>\n",
       "      <td>3</td>\n",
       "      <td>7</td>\n",
       "      <td>15.0</td>\n",
       "      <td>196</td>\n",
       "      <td>1</td>\n",
       "      <td>1</td>\n",
       "      <td>...</td>\n",
       "      <td>Non-frequent customer</td>\n",
       "      <td>Linda</td>\n",
       "      <td>Nguyen</td>\n",
       "      <td>Female</td>\n",
       "      <td>Alabama</td>\n",
       "      <td>31</td>\n",
       "      <td>2/17/2019</td>\n",
       "      <td>3</td>\n",
       "      <td>married</td>\n",
       "      <td>40423</td>\n",
       "    </tr>\n",
       "    <tr>\n",
       "      <th>2</th>\n",
       "      <td>473747</td>\n",
       "      <td>1</td>\n",
       "      <td>prior</td>\n",
       "      <td>3</td>\n",
       "      <td>3</td>\n",
       "      <td>12</td>\n",
       "      <td>21.0</td>\n",
       "      <td>196</td>\n",
       "      <td>1</td>\n",
       "      <td>1</td>\n",
       "      <td>...</td>\n",
       "      <td>Non-frequent customer</td>\n",
       "      <td>Linda</td>\n",
       "      <td>Nguyen</td>\n",
       "      <td>Female</td>\n",
       "      <td>Alabama</td>\n",
       "      <td>31</td>\n",
       "      <td>2/17/2019</td>\n",
       "      <td>3</td>\n",
       "      <td>married</td>\n",
       "      <td>40423</td>\n",
       "    </tr>\n",
       "    <tr>\n",
       "      <th>3</th>\n",
       "      <td>2254736</td>\n",
       "      <td>1</td>\n",
       "      <td>prior</td>\n",
       "      <td>4</td>\n",
       "      <td>4</td>\n",
       "      <td>7</td>\n",
       "      <td>29.0</td>\n",
       "      <td>196</td>\n",
       "      <td>1</td>\n",
       "      <td>1</td>\n",
       "      <td>...</td>\n",
       "      <td>Non-frequent customer</td>\n",
       "      <td>Linda</td>\n",
       "      <td>Nguyen</td>\n",
       "      <td>Female</td>\n",
       "      <td>Alabama</td>\n",
       "      <td>31</td>\n",
       "      <td>2/17/2019</td>\n",
       "      <td>3</td>\n",
       "      <td>married</td>\n",
       "      <td>40423</td>\n",
       "    </tr>\n",
       "    <tr>\n",
       "      <th>4</th>\n",
       "      <td>431534</td>\n",
       "      <td>1</td>\n",
       "      <td>prior</td>\n",
       "      <td>5</td>\n",
       "      <td>4</td>\n",
       "      <td>15</td>\n",
       "      <td>28.0</td>\n",
       "      <td>196</td>\n",
       "      <td>1</td>\n",
       "      <td>1</td>\n",
       "      <td>...</td>\n",
       "      <td>Non-frequent customer</td>\n",
       "      <td>Linda</td>\n",
       "      <td>Nguyen</td>\n",
       "      <td>Female</td>\n",
       "      <td>Alabama</td>\n",
       "      <td>31</td>\n",
       "      <td>2/17/2019</td>\n",
       "      <td>3</td>\n",
       "      <td>married</td>\n",
       "      <td>40423</td>\n",
       "    </tr>\n",
       "  </tbody>\n",
       "</table>\n",
       "<p>5 rows × 30 columns</p>\n",
       "</div>"
      ],
      "text/plain": [
       "   order_id  user_id eval_set  order_number  order_dow  order_hour_of_day  \\\n",
       "0   2539329        1    prior             1          2                  8   \n",
       "1   2398795        1    prior             2          3                  7   \n",
       "2    473747        1    prior             3          3                 12   \n",
       "3   2254736        1    prior             4          4                  7   \n",
       "4    431534        1    prior             5          4                 15   \n",
       "\n",
       "   days_since_prior_order  product_id  add_to_cart_order  reordered  ...  \\\n",
       "0                     NaN         196                  1          0  ...   \n",
       "1                    15.0         196                  1          1  ...   \n",
       "2                    21.0         196                  1          1  ...   \n",
       "3                    29.0         196                  1          1  ...   \n",
       "4                    28.0         196                  1          1  ...   \n",
       "\n",
       "    order_frequency_flag  First Name  Last Name  Gender    State  Age  \\\n",
       "0  Non-frequent customer       Linda     Nguyen  Female  Alabama   31   \n",
       "1  Non-frequent customer       Linda     Nguyen  Female  Alabama   31   \n",
       "2  Non-frequent customer       Linda     Nguyen  Female  Alabama   31   \n",
       "3  Non-frequent customer       Linda     Nguyen  Female  Alabama   31   \n",
       "4  Non-frequent customer       Linda     Nguyen  Female  Alabama   31   \n",
       "\n",
       "  date_joined  n_dependants fam_status  income  \n",
       "0   2/17/2019             3    married   40423  \n",
       "1   2/17/2019             3    married   40423  \n",
       "2   2/17/2019             3    married   40423  \n",
       "3   2/17/2019             3    married   40423  \n",
       "4   2/17/2019             3    married   40423  \n",
       "\n",
       "[5 rows x 30 columns]"
      ]
     },
     "execution_count": 5,
     "metadata": {},
     "output_type": "execute_result"
    }
   ],
   "source": [
    "# Checking Imported Dataframe\n",
    "df_cust_merge.head()"
   ]
  },
  {
   "cell_type": "code",
   "execution_count": 6,
   "id": "114cdbea",
   "metadata": {},
   "outputs": [
    {
     "data": {
      "text/plain": [
       "(32434212, 30)"
      ]
     },
     "execution_count": 6,
     "metadata": {},
     "output_type": "execute_result"
    }
   ],
   "source": [
    "#  Checking the size\n",
    "df_cust_merge.shape"
   ]
  },
  {
   "cell_type": "code",
   "execution_count": 7,
   "id": "4954bddd",
   "metadata": {},
   "outputs": [
    {
     "name": "stdout",
     "output_type": "stream",
     "text": [
      "<class 'pandas.core.frame.DataFrame'>\n",
      "Int64Index: 32434212 entries, 0 to 32434211\n",
      "Data columns (total 30 columns):\n",
      " #   Column                  Dtype   \n",
      "---  ------                  -----   \n",
      " 0   order_id                int64   \n",
      " 1   user_id                 int64   \n",
      " 2   eval_set                object  \n",
      " 3   order_number            int64   \n",
      " 4   order_dow               int64   \n",
      " 5   order_hour_of_day       int64   \n",
      " 6   days_since_prior_order  float64 \n",
      " 7   product_id              int64   \n",
      " 8   add_to_cart_order       int64   \n",
      " 9   reordered               int64   \n",
      " 10  product_name            object  \n",
      " 11  aisle_id                int64   \n",
      " 12  department_id           int64   \n",
      " 13  prices                  float64 \n",
      " 14  _merge                  category\n",
      " 15  max_order               int64   \n",
      " 16  loyalty_flag            object  \n",
      " 17  average_price           float64 \n",
      " 18  spending_flag           object  \n",
      " 19  median_prior_orders     float64 \n",
      " 20  order_frequency_flag    object  \n",
      " 21  First Name              object  \n",
      " 22  Last Name               object  \n",
      " 23  Gender                  object  \n",
      " 24  State                   object  \n",
      " 25  Age                     int64   \n",
      " 26  date_joined             object  \n",
      " 27  n_dependants            int64   \n",
      " 28  fam_status              object  \n",
      " 29  income                  int64   \n",
      "dtypes: category(1), float64(4), int64(14), object(11)\n",
      "memory usage: 7.3+ GB\n"
     ]
    }
   ],
   "source": [
    "# Checking the column titles\n",
    "df_cust_merge.info()"
   ]
  },
  {
   "cell_type": "markdown",
   "id": "3c9eefa6",
   "metadata": {},
   "source": [
    "# dropping columns"
   ]
  },
  {
   "cell_type": "code",
   "execution_count": 11,
   "id": "b2f350d2",
   "metadata": {},
   "outputs": [],
   "source": [
    "\n",
    "# dropping first and last name columns due to PII\n",
    "df_cust_merge = df_cust_merge.drop(columns = ['First Name'])"
   ]
  },
  {
   "cell_type": "code",
   "execution_count": 12,
   "id": "d7d7cfdd",
   "metadata": {},
   "outputs": [],
   "source": [
    "\n",
    "# dropping first and last name columns due to PII\n",
    "df_cust_merge = df_cust_merge.drop(columns = ['Last Name'])"
   ]
  },
  {
   "cell_type": "code",
   "execution_count": 13,
   "id": "9799f5f9",
   "metadata": {},
   "outputs": [
    {
     "name": "stdout",
     "output_type": "stream",
     "text": [
      "<class 'pandas.core.frame.DataFrame'>\n",
      "Int64Index: 32434212 entries, 0 to 32434211\n",
      "Data columns (total 28 columns):\n",
      " #   Column                  Dtype   \n",
      "---  ------                  -----   \n",
      " 0   order_id                int64   \n",
      " 1   user_id                 int64   \n",
      " 2   eval_set                object  \n",
      " 3   order_number            int64   \n",
      " 4   order_dow               int64   \n",
      " 5   order_hour_of_day       int64   \n",
      " 6   days_since_prior_order  float64 \n",
      " 7   product_id              int64   \n",
      " 8   add_to_cart_order       int64   \n",
      " 9   reordered               int64   \n",
      " 10  product_name            object  \n",
      " 11  aisle_id                int64   \n",
      " 12  department_id           int64   \n",
      " 13  prices                  float64 \n",
      " 14  _merge                  category\n",
      " 15  max_order               int64   \n",
      " 16  loyalty_flag            object  \n",
      " 17  average_price           float64 \n",
      " 18  spending_flag           object  \n",
      " 19  median_prior_orders     float64 \n",
      " 20  order_frequency_flag    object  \n",
      " 21  Gender                  object  \n",
      " 22  State                   object  \n",
      " 23  Age                     int64   \n",
      " 24  date_joined             object  \n",
      " 25  n_dependants            int64   \n",
      " 26  fam_status              object  \n",
      " 27  income                  int64   \n",
      "dtypes: category(1), float64(4), int64(14), object(9)\n",
      "memory usage: 6.8+ GB\n"
     ]
    }
   ],
   "source": [
    "# checking dropped columns\n",
    "df_cust_merge.info()"
   ]
  },
  {
   "cell_type": "markdown",
   "id": "e05fd331",
   "metadata": {},
   "source": [
    "# Creating a region flag"
   ]
  },
  {
   "cell_type": "code",
   "execution_count": 14,
   "id": "ae6e6746",
   "metadata": {},
   "outputs": [],
   "source": [
    "# making a group/list of southern states\n",
    "states_south = ['Deleware', 'Maryland', 'District of Columbia', 'Virginia', 'West Virginia', 'North Carolina', 'South Carolina', 'Georgia', 'Florida', 'Kentucky', 'Tennessee', 'Mississippi', 'Alabama', 'Oklahoma', 'Texas', 'Arkansas', 'Louisiana']"
   ]
  },
  {
   "cell_type": "code",
   "execution_count": 15,
   "id": "30689dbd",
   "metadata": {},
   "outputs": [],
   "source": [
    "# making a group/list of ne states\n",
    "states_ne = ['Maine','New Hampshire','Vermont','Massachusetts','Rhode Island','Connecticut','New York','Pennsylvania','New Jersey']"
   ]
  },
  {
   "cell_type": "code",
   "execution_count": 16,
   "id": "b6a2849e",
   "metadata": {},
   "outputs": [
    {
     "data": {
      "text/plain": [
       "['Maine',\n",
       " 'New Hampshire',\n",
       " 'Vermont',\n",
       " 'Massachusetts',\n",
       " 'Rhode Island',\n",
       " 'Connecticut',\n",
       " 'New York',\n",
       " 'Pennsylvania',\n",
       " 'New Jersey']"
      ]
     },
     "execution_count": 16,
     "metadata": {},
     "output_type": "execute_result"
    }
   ],
   "source": [
    "# checking the list\n",
    "states_ne"
   ]
  },
  {
   "cell_type": "code",
   "execution_count": 17,
   "id": "9d5f2472",
   "metadata": {},
   "outputs": [
    {
     "data": {
      "text/plain": [
       "['Deleware',\n",
       " 'Maryland',\n",
       " 'District of Columbia',\n",
       " 'Virginia',\n",
       " 'West Virginia',\n",
       " 'North Carolina',\n",
       " 'South Carolina',\n",
       " 'Georgia',\n",
       " 'Florida',\n",
       " 'Kentucky',\n",
       " 'Tennessee',\n",
       " 'Mississippi',\n",
       " 'Alabama',\n",
       " 'Oklahoma',\n",
       " 'Texas',\n",
       " 'Arkansas',\n",
       " 'Louisiana']"
      ]
     },
     "execution_count": 17,
     "metadata": {},
     "output_type": "execute_result"
    }
   ],
   "source": [
    "states_south"
   ]
  },
  {
   "cell_type": "code",
   "execution_count": 18,
   "id": "fba71858",
   "metadata": {},
   "outputs": [],
   "source": [
    "# making a group/list of weatern states\n",
    "states_west = ['Idaho','Montana','Wyoming','Nevada','Utah','Colorado','Arizona','New Mexico','Alaska','Washington','Oregon','California','Hawaii']"
   ]
  },
  {
   "cell_type": "code",
   "execution_count": 19,
   "id": "0a7ea4a2",
   "metadata": {},
   "outputs": [],
   "source": [
    "# making a group/list of midwest states\n",
    "states_mw = ['Wisconsin','Michigan','Illinois','Indiana','Ohio','North Dakota','South Dakota','Nebraska','Kansas','Minnesota','Iowa','Missouri']"
   ]
  },
  {
   "cell_type": "code",
   "execution_count": 25,
   "id": "2ac9c8f7",
   "metadata": {},
   "outputs": [],
   "source": [
    "# using loc function to make a new region column\n",
    "df_cust_merge.loc[df_cust_merge['State'].isin(states_south), 'region'] = 'South'"
   ]
  },
  {
   "cell_type": "code",
   "execution_count": 27,
   "id": "f19f5c27",
   "metadata": {},
   "outputs": [],
   "source": [
    "# using loc function to make a new region column\n",
    "df_cust_merge.loc[df_cust_merge['State'].isin(states_ne), 'region'] = 'Northeast'"
   ]
  },
  {
   "cell_type": "code",
   "execution_count": 29,
   "id": "a0dd66bb",
   "metadata": {},
   "outputs": [],
   "source": [
    "# using loc function to make a new region column\n",
    "df_cust_merge.loc[df_cust_merge['State'].isin(states_mw), 'region'] = 'Midwest'"
   ]
  },
  {
   "cell_type": "code",
   "execution_count": 30,
   "id": "6c3431c9",
   "metadata": {},
   "outputs": [],
   "source": [
    "# using loc function to make a new region colum\n",
    "df_cust_merge.loc[df_cust_merge['State'].isin(states_west), 'region'] = 'West'"
   ]
  },
  {
   "cell_type": "code",
   "execution_count": 31,
   "id": "c6daf9dc",
   "metadata": {},
   "outputs": [
    {
     "data": {
      "text/html": [
       "<div>\n",
       "<style scoped>\n",
       "    .dataframe tbody tr th:only-of-type {\n",
       "        vertical-align: middle;\n",
       "    }\n",
       "\n",
       "    .dataframe tbody tr th {\n",
       "        vertical-align: top;\n",
       "    }\n",
       "\n",
       "    .dataframe thead th {\n",
       "        text-align: right;\n",
       "    }\n",
       "</style>\n",
       "<table border=\"1\" class=\"dataframe\">\n",
       "  <thead>\n",
       "    <tr style=\"text-align: right;\">\n",
       "      <th></th>\n",
       "      <th>order_id</th>\n",
       "      <th>user_id</th>\n",
       "      <th>eval_set</th>\n",
       "      <th>order_number</th>\n",
       "      <th>order_dow</th>\n",
       "      <th>order_hour_of_day</th>\n",
       "      <th>days_since_prior_order</th>\n",
       "      <th>product_id</th>\n",
       "      <th>add_to_cart_order</th>\n",
       "      <th>reordered</th>\n",
       "      <th>...</th>\n",
       "      <th>median_prior_orders</th>\n",
       "      <th>order_frequency_flag</th>\n",
       "      <th>Gender</th>\n",
       "      <th>State</th>\n",
       "      <th>Age</th>\n",
       "      <th>date_joined</th>\n",
       "      <th>n_dependants</th>\n",
       "      <th>fam_status</th>\n",
       "      <th>income</th>\n",
       "      <th>region</th>\n",
       "    </tr>\n",
       "  </thead>\n",
       "  <tbody>\n",
       "    <tr>\n",
       "      <th>0</th>\n",
       "      <td>2539329</td>\n",
       "      <td>1</td>\n",
       "      <td>prior</td>\n",
       "      <td>1</td>\n",
       "      <td>2</td>\n",
       "      <td>8</td>\n",
       "      <td>NaN</td>\n",
       "      <td>196</td>\n",
       "      <td>1</td>\n",
       "      <td>0</td>\n",
       "      <td>...</td>\n",
       "      <td>20.5</td>\n",
       "      <td>Non-frequent customer</td>\n",
       "      <td>Female</td>\n",
       "      <td>Alabama</td>\n",
       "      <td>31</td>\n",
       "      <td>2/17/2019</td>\n",
       "      <td>3</td>\n",
       "      <td>married</td>\n",
       "      <td>40423</td>\n",
       "      <td>South</td>\n",
       "    </tr>\n",
       "    <tr>\n",
       "      <th>1</th>\n",
       "      <td>2398795</td>\n",
       "      <td>1</td>\n",
       "      <td>prior</td>\n",
       "      <td>2</td>\n",
       "      <td>3</td>\n",
       "      <td>7</td>\n",
       "      <td>15.0</td>\n",
       "      <td>196</td>\n",
       "      <td>1</td>\n",
       "      <td>1</td>\n",
       "      <td>...</td>\n",
       "      <td>20.5</td>\n",
       "      <td>Non-frequent customer</td>\n",
       "      <td>Female</td>\n",
       "      <td>Alabama</td>\n",
       "      <td>31</td>\n",
       "      <td>2/17/2019</td>\n",
       "      <td>3</td>\n",
       "      <td>married</td>\n",
       "      <td>40423</td>\n",
       "      <td>South</td>\n",
       "    </tr>\n",
       "    <tr>\n",
       "      <th>2</th>\n",
       "      <td>473747</td>\n",
       "      <td>1</td>\n",
       "      <td>prior</td>\n",
       "      <td>3</td>\n",
       "      <td>3</td>\n",
       "      <td>12</td>\n",
       "      <td>21.0</td>\n",
       "      <td>196</td>\n",
       "      <td>1</td>\n",
       "      <td>1</td>\n",
       "      <td>...</td>\n",
       "      <td>20.5</td>\n",
       "      <td>Non-frequent customer</td>\n",
       "      <td>Female</td>\n",
       "      <td>Alabama</td>\n",
       "      <td>31</td>\n",
       "      <td>2/17/2019</td>\n",
       "      <td>3</td>\n",
       "      <td>married</td>\n",
       "      <td>40423</td>\n",
       "      <td>South</td>\n",
       "    </tr>\n",
       "    <tr>\n",
       "      <th>3</th>\n",
       "      <td>2254736</td>\n",
       "      <td>1</td>\n",
       "      <td>prior</td>\n",
       "      <td>4</td>\n",
       "      <td>4</td>\n",
       "      <td>7</td>\n",
       "      <td>29.0</td>\n",
       "      <td>196</td>\n",
       "      <td>1</td>\n",
       "      <td>1</td>\n",
       "      <td>...</td>\n",
       "      <td>20.5</td>\n",
       "      <td>Non-frequent customer</td>\n",
       "      <td>Female</td>\n",
       "      <td>Alabama</td>\n",
       "      <td>31</td>\n",
       "      <td>2/17/2019</td>\n",
       "      <td>3</td>\n",
       "      <td>married</td>\n",
       "      <td>40423</td>\n",
       "      <td>South</td>\n",
       "    </tr>\n",
       "    <tr>\n",
       "      <th>4</th>\n",
       "      <td>431534</td>\n",
       "      <td>1</td>\n",
       "      <td>prior</td>\n",
       "      <td>5</td>\n",
       "      <td>4</td>\n",
       "      <td>15</td>\n",
       "      <td>28.0</td>\n",
       "      <td>196</td>\n",
       "      <td>1</td>\n",
       "      <td>1</td>\n",
       "      <td>...</td>\n",
       "      <td>20.5</td>\n",
       "      <td>Non-frequent customer</td>\n",
       "      <td>Female</td>\n",
       "      <td>Alabama</td>\n",
       "      <td>31</td>\n",
       "      <td>2/17/2019</td>\n",
       "      <td>3</td>\n",
       "      <td>married</td>\n",
       "      <td>40423</td>\n",
       "      <td>South</td>\n",
       "    </tr>\n",
       "    <tr>\n",
       "      <th>5</th>\n",
       "      <td>3367565</td>\n",
       "      <td>1</td>\n",
       "      <td>prior</td>\n",
       "      <td>6</td>\n",
       "      <td>2</td>\n",
       "      <td>7</td>\n",
       "      <td>19.0</td>\n",
       "      <td>196</td>\n",
       "      <td>1</td>\n",
       "      <td>1</td>\n",
       "      <td>...</td>\n",
       "      <td>20.5</td>\n",
       "      <td>Non-frequent customer</td>\n",
       "      <td>Female</td>\n",
       "      <td>Alabama</td>\n",
       "      <td>31</td>\n",
       "      <td>2/17/2019</td>\n",
       "      <td>3</td>\n",
       "      <td>married</td>\n",
       "      <td>40423</td>\n",
       "      <td>South</td>\n",
       "    </tr>\n",
       "    <tr>\n",
       "      <th>6</th>\n",
       "      <td>550135</td>\n",
       "      <td>1</td>\n",
       "      <td>prior</td>\n",
       "      <td>7</td>\n",
       "      <td>1</td>\n",
       "      <td>9</td>\n",
       "      <td>20.0</td>\n",
       "      <td>196</td>\n",
       "      <td>1</td>\n",
       "      <td>1</td>\n",
       "      <td>...</td>\n",
       "      <td>20.5</td>\n",
       "      <td>Non-frequent customer</td>\n",
       "      <td>Female</td>\n",
       "      <td>Alabama</td>\n",
       "      <td>31</td>\n",
       "      <td>2/17/2019</td>\n",
       "      <td>3</td>\n",
       "      <td>married</td>\n",
       "      <td>40423</td>\n",
       "      <td>South</td>\n",
       "    </tr>\n",
       "    <tr>\n",
       "      <th>7</th>\n",
       "      <td>3108588</td>\n",
       "      <td>1</td>\n",
       "      <td>prior</td>\n",
       "      <td>8</td>\n",
       "      <td>1</td>\n",
       "      <td>14</td>\n",
       "      <td>14.0</td>\n",
       "      <td>196</td>\n",
       "      <td>2</td>\n",
       "      <td>1</td>\n",
       "      <td>...</td>\n",
       "      <td>20.5</td>\n",
       "      <td>Non-frequent customer</td>\n",
       "      <td>Female</td>\n",
       "      <td>Alabama</td>\n",
       "      <td>31</td>\n",
       "      <td>2/17/2019</td>\n",
       "      <td>3</td>\n",
       "      <td>married</td>\n",
       "      <td>40423</td>\n",
       "      <td>South</td>\n",
       "    </tr>\n",
       "    <tr>\n",
       "      <th>8</th>\n",
       "      <td>2295261</td>\n",
       "      <td>1</td>\n",
       "      <td>prior</td>\n",
       "      <td>9</td>\n",
       "      <td>1</td>\n",
       "      <td>16</td>\n",
       "      <td>0.0</td>\n",
       "      <td>196</td>\n",
       "      <td>4</td>\n",
       "      <td>1</td>\n",
       "      <td>...</td>\n",
       "      <td>20.5</td>\n",
       "      <td>Non-frequent customer</td>\n",
       "      <td>Female</td>\n",
       "      <td>Alabama</td>\n",
       "      <td>31</td>\n",
       "      <td>2/17/2019</td>\n",
       "      <td>3</td>\n",
       "      <td>married</td>\n",
       "      <td>40423</td>\n",
       "      <td>South</td>\n",
       "    </tr>\n",
       "    <tr>\n",
       "      <th>9</th>\n",
       "      <td>2550362</td>\n",
       "      <td>1</td>\n",
       "      <td>prior</td>\n",
       "      <td>10</td>\n",
       "      <td>4</td>\n",
       "      <td>8</td>\n",
       "      <td>30.0</td>\n",
       "      <td>196</td>\n",
       "      <td>1</td>\n",
       "      <td>1</td>\n",
       "      <td>...</td>\n",
       "      <td>20.5</td>\n",
       "      <td>Non-frequent customer</td>\n",
       "      <td>Female</td>\n",
       "      <td>Alabama</td>\n",
       "      <td>31</td>\n",
       "      <td>2/17/2019</td>\n",
       "      <td>3</td>\n",
       "      <td>married</td>\n",
       "      <td>40423</td>\n",
       "      <td>South</td>\n",
       "    </tr>\n",
       "    <tr>\n",
       "      <th>10</th>\n",
       "      <td>2539329</td>\n",
       "      <td>1</td>\n",
       "      <td>prior</td>\n",
       "      <td>1</td>\n",
       "      <td>2</td>\n",
       "      <td>8</td>\n",
       "      <td>NaN</td>\n",
       "      <td>14084</td>\n",
       "      <td>2</td>\n",
       "      <td>0</td>\n",
       "      <td>...</td>\n",
       "      <td>20.5</td>\n",
       "      <td>Non-frequent customer</td>\n",
       "      <td>Female</td>\n",
       "      <td>Alabama</td>\n",
       "      <td>31</td>\n",
       "      <td>2/17/2019</td>\n",
       "      <td>3</td>\n",
       "      <td>married</td>\n",
       "      <td>40423</td>\n",
       "      <td>South</td>\n",
       "    </tr>\n",
       "    <tr>\n",
       "      <th>11</th>\n",
       "      <td>2539329</td>\n",
       "      <td>1</td>\n",
       "      <td>prior</td>\n",
       "      <td>1</td>\n",
       "      <td>2</td>\n",
       "      <td>8</td>\n",
       "      <td>NaN</td>\n",
       "      <td>12427</td>\n",
       "      <td>3</td>\n",
       "      <td>0</td>\n",
       "      <td>...</td>\n",
       "      <td>20.5</td>\n",
       "      <td>Non-frequent customer</td>\n",
       "      <td>Female</td>\n",
       "      <td>Alabama</td>\n",
       "      <td>31</td>\n",
       "      <td>2/17/2019</td>\n",
       "      <td>3</td>\n",
       "      <td>married</td>\n",
       "      <td>40423</td>\n",
       "      <td>South</td>\n",
       "    </tr>\n",
       "    <tr>\n",
       "      <th>12</th>\n",
       "      <td>2398795</td>\n",
       "      <td>1</td>\n",
       "      <td>prior</td>\n",
       "      <td>2</td>\n",
       "      <td>3</td>\n",
       "      <td>7</td>\n",
       "      <td>15.0</td>\n",
       "      <td>12427</td>\n",
       "      <td>3</td>\n",
       "      <td>1</td>\n",
       "      <td>...</td>\n",
       "      <td>20.5</td>\n",
       "      <td>Non-frequent customer</td>\n",
       "      <td>Female</td>\n",
       "      <td>Alabama</td>\n",
       "      <td>31</td>\n",
       "      <td>2/17/2019</td>\n",
       "      <td>3</td>\n",
       "      <td>married</td>\n",
       "      <td>40423</td>\n",
       "      <td>South</td>\n",
       "    </tr>\n",
       "    <tr>\n",
       "      <th>13</th>\n",
       "      <td>473747</td>\n",
       "      <td>1</td>\n",
       "      <td>prior</td>\n",
       "      <td>3</td>\n",
       "      <td>3</td>\n",
       "      <td>12</td>\n",
       "      <td>21.0</td>\n",
       "      <td>12427</td>\n",
       "      <td>2</td>\n",
       "      <td>1</td>\n",
       "      <td>...</td>\n",
       "      <td>20.5</td>\n",
       "      <td>Non-frequent customer</td>\n",
       "      <td>Female</td>\n",
       "      <td>Alabama</td>\n",
       "      <td>31</td>\n",
       "      <td>2/17/2019</td>\n",
       "      <td>3</td>\n",
       "      <td>married</td>\n",
       "      <td>40423</td>\n",
       "      <td>South</td>\n",
       "    </tr>\n",
       "    <tr>\n",
       "      <th>14</th>\n",
       "      <td>2254736</td>\n",
       "      <td>1</td>\n",
       "      <td>prior</td>\n",
       "      <td>4</td>\n",
       "      <td>4</td>\n",
       "      <td>7</td>\n",
       "      <td>29.0</td>\n",
       "      <td>12427</td>\n",
       "      <td>2</td>\n",
       "      <td>1</td>\n",
       "      <td>...</td>\n",
       "      <td>20.5</td>\n",
       "      <td>Non-frequent customer</td>\n",
       "      <td>Female</td>\n",
       "      <td>Alabama</td>\n",
       "      <td>31</td>\n",
       "      <td>2/17/2019</td>\n",
       "      <td>3</td>\n",
       "      <td>married</td>\n",
       "      <td>40423</td>\n",
       "      <td>South</td>\n",
       "    </tr>\n",
       "    <tr>\n",
       "      <th>15</th>\n",
       "      <td>431534</td>\n",
       "      <td>1</td>\n",
       "      <td>prior</td>\n",
       "      <td>5</td>\n",
       "      <td>4</td>\n",
       "      <td>15</td>\n",
       "      <td>28.0</td>\n",
       "      <td>12427</td>\n",
       "      <td>2</td>\n",
       "      <td>1</td>\n",
       "      <td>...</td>\n",
       "      <td>20.5</td>\n",
       "      <td>Non-frequent customer</td>\n",
       "      <td>Female</td>\n",
       "      <td>Alabama</td>\n",
       "      <td>31</td>\n",
       "      <td>2/17/2019</td>\n",
       "      <td>3</td>\n",
       "      <td>married</td>\n",
       "      <td>40423</td>\n",
       "      <td>South</td>\n",
       "    </tr>\n",
       "    <tr>\n",
       "      <th>16</th>\n",
       "      <td>3367565</td>\n",
       "      <td>1</td>\n",
       "      <td>prior</td>\n",
       "      <td>6</td>\n",
       "      <td>2</td>\n",
       "      <td>7</td>\n",
       "      <td>19.0</td>\n",
       "      <td>12427</td>\n",
       "      <td>2</td>\n",
       "      <td>1</td>\n",
       "      <td>...</td>\n",
       "      <td>20.5</td>\n",
       "      <td>Non-frequent customer</td>\n",
       "      <td>Female</td>\n",
       "      <td>Alabama</td>\n",
       "      <td>31</td>\n",
       "      <td>2/17/2019</td>\n",
       "      <td>3</td>\n",
       "      <td>married</td>\n",
       "      <td>40423</td>\n",
       "      <td>South</td>\n",
       "    </tr>\n",
       "    <tr>\n",
       "      <th>17</th>\n",
       "      <td>550135</td>\n",
       "      <td>1</td>\n",
       "      <td>prior</td>\n",
       "      <td>7</td>\n",
       "      <td>1</td>\n",
       "      <td>9</td>\n",
       "      <td>20.0</td>\n",
       "      <td>12427</td>\n",
       "      <td>3</td>\n",
       "      <td>1</td>\n",
       "      <td>...</td>\n",
       "      <td>20.5</td>\n",
       "      <td>Non-frequent customer</td>\n",
       "      <td>Female</td>\n",
       "      <td>Alabama</td>\n",
       "      <td>31</td>\n",
       "      <td>2/17/2019</td>\n",
       "      <td>3</td>\n",
       "      <td>married</td>\n",
       "      <td>40423</td>\n",
       "      <td>South</td>\n",
       "    </tr>\n",
       "    <tr>\n",
       "      <th>18</th>\n",
       "      <td>3108588</td>\n",
       "      <td>1</td>\n",
       "      <td>prior</td>\n",
       "      <td>8</td>\n",
       "      <td>1</td>\n",
       "      <td>14</td>\n",
       "      <td>14.0</td>\n",
       "      <td>12427</td>\n",
       "      <td>1</td>\n",
       "      <td>1</td>\n",
       "      <td>...</td>\n",
       "      <td>20.5</td>\n",
       "      <td>Non-frequent customer</td>\n",
       "      <td>Female</td>\n",
       "      <td>Alabama</td>\n",
       "      <td>31</td>\n",
       "      <td>2/17/2019</td>\n",
       "      <td>3</td>\n",
       "      <td>married</td>\n",
       "      <td>40423</td>\n",
       "      <td>South</td>\n",
       "    </tr>\n",
       "    <tr>\n",
       "      <th>19</th>\n",
       "      <td>2295261</td>\n",
       "      <td>1</td>\n",
       "      <td>prior</td>\n",
       "      <td>9</td>\n",
       "      <td>1</td>\n",
       "      <td>16</td>\n",
       "      <td>0.0</td>\n",
       "      <td>12427</td>\n",
       "      <td>6</td>\n",
       "      <td>1</td>\n",
       "      <td>...</td>\n",
       "      <td>20.5</td>\n",
       "      <td>Non-frequent customer</td>\n",
       "      <td>Female</td>\n",
       "      <td>Alabama</td>\n",
       "      <td>31</td>\n",
       "      <td>2/17/2019</td>\n",
       "      <td>3</td>\n",
       "      <td>married</td>\n",
       "      <td>40423</td>\n",
       "      <td>South</td>\n",
       "    </tr>\n",
       "  </tbody>\n",
       "</table>\n",
       "<p>20 rows × 29 columns</p>\n",
       "</div>"
      ],
      "text/plain": [
       "    order_id  user_id eval_set  order_number  order_dow  order_hour_of_day  \\\n",
       "0    2539329        1    prior             1          2                  8   \n",
       "1    2398795        1    prior             2          3                  7   \n",
       "2     473747        1    prior             3          3                 12   \n",
       "3    2254736        1    prior             4          4                  7   \n",
       "4     431534        1    prior             5          4                 15   \n",
       "5    3367565        1    prior             6          2                  7   \n",
       "6     550135        1    prior             7          1                  9   \n",
       "7    3108588        1    prior             8          1                 14   \n",
       "8    2295261        1    prior             9          1                 16   \n",
       "9    2550362        1    prior            10          4                  8   \n",
       "10   2539329        1    prior             1          2                  8   \n",
       "11   2539329        1    prior             1          2                  8   \n",
       "12   2398795        1    prior             2          3                  7   \n",
       "13    473747        1    prior             3          3                 12   \n",
       "14   2254736        1    prior             4          4                  7   \n",
       "15    431534        1    prior             5          4                 15   \n",
       "16   3367565        1    prior             6          2                  7   \n",
       "17    550135        1    prior             7          1                  9   \n",
       "18   3108588        1    prior             8          1                 14   \n",
       "19   2295261        1    prior             9          1                 16   \n",
       "\n",
       "    days_since_prior_order  product_id  add_to_cart_order  reordered  ...  \\\n",
       "0                      NaN         196                  1          0  ...   \n",
       "1                     15.0         196                  1          1  ...   \n",
       "2                     21.0         196                  1          1  ...   \n",
       "3                     29.0         196                  1          1  ...   \n",
       "4                     28.0         196                  1          1  ...   \n",
       "5                     19.0         196                  1          1  ...   \n",
       "6                     20.0         196                  1          1  ...   \n",
       "7                     14.0         196                  2          1  ...   \n",
       "8                      0.0         196                  4          1  ...   \n",
       "9                     30.0         196                  1          1  ...   \n",
       "10                     NaN       14084                  2          0  ...   \n",
       "11                     NaN       12427                  3          0  ...   \n",
       "12                    15.0       12427                  3          1  ...   \n",
       "13                    21.0       12427                  2          1  ...   \n",
       "14                    29.0       12427                  2          1  ...   \n",
       "15                    28.0       12427                  2          1  ...   \n",
       "16                    19.0       12427                  2          1  ...   \n",
       "17                    20.0       12427                  3          1  ...   \n",
       "18                    14.0       12427                  1          1  ...   \n",
       "19                     0.0       12427                  6          1  ...   \n",
       "\n",
       "   median_prior_orders   order_frequency_flag  Gender    State Age  \\\n",
       "0                 20.5  Non-frequent customer  Female  Alabama  31   \n",
       "1                 20.5  Non-frequent customer  Female  Alabama  31   \n",
       "2                 20.5  Non-frequent customer  Female  Alabama  31   \n",
       "3                 20.5  Non-frequent customer  Female  Alabama  31   \n",
       "4                 20.5  Non-frequent customer  Female  Alabama  31   \n",
       "5                 20.5  Non-frequent customer  Female  Alabama  31   \n",
       "6                 20.5  Non-frequent customer  Female  Alabama  31   \n",
       "7                 20.5  Non-frequent customer  Female  Alabama  31   \n",
       "8                 20.5  Non-frequent customer  Female  Alabama  31   \n",
       "9                 20.5  Non-frequent customer  Female  Alabama  31   \n",
       "10                20.5  Non-frequent customer  Female  Alabama  31   \n",
       "11                20.5  Non-frequent customer  Female  Alabama  31   \n",
       "12                20.5  Non-frequent customer  Female  Alabama  31   \n",
       "13                20.5  Non-frequent customer  Female  Alabama  31   \n",
       "14                20.5  Non-frequent customer  Female  Alabama  31   \n",
       "15                20.5  Non-frequent customer  Female  Alabama  31   \n",
       "16                20.5  Non-frequent customer  Female  Alabama  31   \n",
       "17                20.5  Non-frequent customer  Female  Alabama  31   \n",
       "18                20.5  Non-frequent customer  Female  Alabama  31   \n",
       "19                20.5  Non-frequent customer  Female  Alabama  31   \n",
       "\n",
       "    date_joined n_dependants  fam_status income  region  \n",
       "0     2/17/2019            3     married  40423   South  \n",
       "1     2/17/2019            3     married  40423   South  \n",
       "2     2/17/2019            3     married  40423   South  \n",
       "3     2/17/2019            3     married  40423   South  \n",
       "4     2/17/2019            3     married  40423   South  \n",
       "5     2/17/2019            3     married  40423   South  \n",
       "6     2/17/2019            3     married  40423   South  \n",
       "7     2/17/2019            3     married  40423   South  \n",
       "8     2/17/2019            3     married  40423   South  \n",
       "9     2/17/2019            3     married  40423   South  \n",
       "10    2/17/2019            3     married  40423   South  \n",
       "11    2/17/2019            3     married  40423   South  \n",
       "12    2/17/2019            3     married  40423   South  \n",
       "13    2/17/2019            3     married  40423   South  \n",
       "14    2/17/2019            3     married  40423   South  \n",
       "15    2/17/2019            3     married  40423   South  \n",
       "16    2/17/2019            3     married  40423   South  \n",
       "17    2/17/2019            3     married  40423   South  \n",
       "18    2/17/2019            3     married  40423   South  \n",
       "19    2/17/2019            3     married  40423   South  \n",
       "\n",
       "[20 rows x 29 columns]"
      ]
     },
     "execution_count": 31,
     "metadata": {},
     "output_type": "execute_result"
    }
   ],
   "source": [
    "# checking output\n",
    "df_cust_merge.head(20)"
   ]
  },
  {
   "cell_type": "code",
   "execution_count": 32,
   "id": "e4383f6b",
   "metadata": {},
   "outputs": [],
   "source": [
    "# checking to see what the spending habits look like across regions\n",
    "crosstab = pd.crosstab(df_cust_merge['region'], df_cust_merge['spending_flag'], dropna = False)"
   ]
  },
  {
   "cell_type": "code",
   "execution_count": 33,
   "id": "e28ee4bf",
   "metadata": {},
   "outputs": [
    {
     "data": {
      "text/html": [
       "<div>\n",
       "<style scoped>\n",
       "    .dataframe tbody tr th:only-of-type {\n",
       "        vertical-align: middle;\n",
       "    }\n",
       "\n",
       "    .dataframe tbody tr th {\n",
       "        vertical-align: top;\n",
       "    }\n",
       "\n",
       "    .dataframe thead th {\n",
       "        text-align: right;\n",
       "    }\n",
       "</style>\n",
       "<table border=\"1\" class=\"dataframe\">\n",
       "  <thead>\n",
       "    <tr style=\"text-align: right;\">\n",
       "      <th>spending_flag</th>\n",
       "      <th>High spender</th>\n",
       "      <th>Low spender</th>\n",
       "    </tr>\n",
       "    <tr>\n",
       "      <th>region</th>\n",
       "      <th></th>\n",
       "      <th></th>\n",
       "    </tr>\n",
       "  </thead>\n",
       "  <tbody>\n",
       "    <tr>\n",
       "      <th>Midwest</th>\n",
       "      <td>156308</td>\n",
       "      <td>7447502</td>\n",
       "    </tr>\n",
       "    <tr>\n",
       "      <th>Northeast</th>\n",
       "      <td>108363</td>\n",
       "      <td>5619984</td>\n",
       "    </tr>\n",
       "    <tr>\n",
       "      <th>South</th>\n",
       "      <td>193901</td>\n",
       "      <td>9970262</td>\n",
       "    </tr>\n",
       "    <tr>\n",
       "      <th>West</th>\n",
       "      <td>160931</td>\n",
       "      <td>8139514</td>\n",
       "    </tr>\n",
       "  </tbody>\n",
       "</table>\n",
       "</div>"
      ],
      "text/plain": [
       "spending_flag  High spender  Low spender\n",
       "region                                  \n",
       "Midwest              156308      7447502\n",
       "Northeast            108363      5619984\n",
       "South                193901      9970262\n",
       "West                 160931      8139514"
      ]
     },
     "execution_count": 33,
     "metadata": {},
     "output_type": "execute_result"
    }
   ],
   "source": [
    "crosstab"
   ]
  },
  {
   "cell_type": "code",
   "execution_count": null,
   "id": "bb49e627",
   "metadata": {},
   "outputs": [],
   "source": [
    "# The south seems to have the most customers."
   ]
  },
  {
   "cell_type": "markdown",
   "id": "e15a130c",
   "metadata": {},
   "source": [
    "# making an exclusion flag for customers under 5 max orders"
   ]
  },
  {
   "cell_type": "code",
   "execution_count": 34,
   "id": "36c128c1",
   "metadata": {},
   "outputs": [
    {
     "name": "stdout",
     "output_type": "stream",
     "text": [
      "<class 'pandas.core.frame.DataFrame'>\n",
      "Int64Index: 32434212 entries, 0 to 32434211\n",
      "Data columns (total 29 columns):\n",
      " #   Column                  Dtype   \n",
      "---  ------                  -----   \n",
      " 0   order_id                int64   \n",
      " 1   user_id                 int64   \n",
      " 2   eval_set                object  \n",
      " 3   order_number            int64   \n",
      " 4   order_dow               int64   \n",
      " 5   order_hour_of_day       int64   \n",
      " 6   days_since_prior_order  float64 \n",
      " 7   product_id              int64   \n",
      " 8   add_to_cart_order       int64   \n",
      " 9   reordered               int64   \n",
      " 10  product_name            object  \n",
      " 11  aisle_id                int64   \n",
      " 12  department_id           int64   \n",
      " 13  prices                  float64 \n",
      " 14  _merge                  category\n",
      " 15  max_order               int64   \n",
      " 16  loyalty_flag            object  \n",
      " 17  average_price           float64 \n",
      " 18  spending_flag           object  \n",
      " 19  median_prior_orders     float64 \n",
      " 20  order_frequency_flag    object  \n",
      " 21  Gender                  object  \n",
      " 22  State                   object  \n",
      " 23  Age                     int64   \n",
      " 24  date_joined             object  \n",
      " 25  n_dependants            int64   \n",
      " 26  fam_status              object  \n",
      " 27  income                  int64   \n",
      " 28  region                  object  \n",
      "dtypes: category(1), float64(4), int64(14), object(10)\n",
      "memory usage: 7.0+ GB\n"
     ]
    }
   ],
   "source": [
    "#checking column names\n",
    "df_cust_merge.info()"
   ]
  },
  {
   "cell_type": "code",
   "execution_count": 35,
   "id": "d18c0db0",
   "metadata": {},
   "outputs": [],
   "source": [
    "# making a flag for people who order less than 5 times\n",
    "df_cust_merge['exclusion_flag'] = df_cust_merge['max_order'].apply(lambda x: 'Yes' if x < 5 else 'No')"
   ]
  },
  {
   "cell_type": "code",
   "execution_count": 36,
   "id": "09b16446",
   "metadata": {},
   "outputs": [
    {
     "data": {
      "text/html": [
       "<div>\n",
       "<style scoped>\n",
       "    .dataframe tbody tr th:only-of-type {\n",
       "        vertical-align: middle;\n",
       "    }\n",
       "\n",
       "    .dataframe tbody tr th {\n",
       "        vertical-align: top;\n",
       "    }\n",
       "\n",
       "    .dataframe thead th {\n",
       "        text-align: right;\n",
       "    }\n",
       "</style>\n",
       "<table border=\"1\" class=\"dataframe\">\n",
       "  <thead>\n",
       "    <tr style=\"text-align: right;\">\n",
       "      <th></th>\n",
       "      <th>order_id</th>\n",
       "      <th>user_id</th>\n",
       "      <th>eval_set</th>\n",
       "      <th>order_number</th>\n",
       "      <th>order_dow</th>\n",
       "      <th>order_hour_of_day</th>\n",
       "      <th>days_since_prior_order</th>\n",
       "      <th>product_id</th>\n",
       "      <th>add_to_cart_order</th>\n",
       "      <th>reordered</th>\n",
       "      <th>...</th>\n",
       "      <th>order_frequency_flag</th>\n",
       "      <th>Gender</th>\n",
       "      <th>State</th>\n",
       "      <th>Age</th>\n",
       "      <th>date_joined</th>\n",
       "      <th>n_dependants</th>\n",
       "      <th>fam_status</th>\n",
       "      <th>income</th>\n",
       "      <th>region</th>\n",
       "      <th>exclusion_flag</th>\n",
       "    </tr>\n",
       "  </thead>\n",
       "  <tbody>\n",
       "    <tr>\n",
       "      <th>0</th>\n",
       "      <td>2539329</td>\n",
       "      <td>1</td>\n",
       "      <td>prior</td>\n",
       "      <td>1</td>\n",
       "      <td>2</td>\n",
       "      <td>8</td>\n",
       "      <td>NaN</td>\n",
       "      <td>196</td>\n",
       "      <td>1</td>\n",
       "      <td>0</td>\n",
       "      <td>...</td>\n",
       "      <td>Non-frequent customer</td>\n",
       "      <td>Female</td>\n",
       "      <td>Alabama</td>\n",
       "      <td>31</td>\n",
       "      <td>2/17/2019</td>\n",
       "      <td>3</td>\n",
       "      <td>married</td>\n",
       "      <td>40423</td>\n",
       "      <td>South</td>\n",
       "      <td>No</td>\n",
       "    </tr>\n",
       "    <tr>\n",
       "      <th>1</th>\n",
       "      <td>2398795</td>\n",
       "      <td>1</td>\n",
       "      <td>prior</td>\n",
       "      <td>2</td>\n",
       "      <td>3</td>\n",
       "      <td>7</td>\n",
       "      <td>15.0</td>\n",
       "      <td>196</td>\n",
       "      <td>1</td>\n",
       "      <td>1</td>\n",
       "      <td>...</td>\n",
       "      <td>Non-frequent customer</td>\n",
       "      <td>Female</td>\n",
       "      <td>Alabama</td>\n",
       "      <td>31</td>\n",
       "      <td>2/17/2019</td>\n",
       "      <td>3</td>\n",
       "      <td>married</td>\n",
       "      <td>40423</td>\n",
       "      <td>South</td>\n",
       "      <td>No</td>\n",
       "    </tr>\n",
       "    <tr>\n",
       "      <th>2</th>\n",
       "      <td>473747</td>\n",
       "      <td>1</td>\n",
       "      <td>prior</td>\n",
       "      <td>3</td>\n",
       "      <td>3</td>\n",
       "      <td>12</td>\n",
       "      <td>21.0</td>\n",
       "      <td>196</td>\n",
       "      <td>1</td>\n",
       "      <td>1</td>\n",
       "      <td>...</td>\n",
       "      <td>Non-frequent customer</td>\n",
       "      <td>Female</td>\n",
       "      <td>Alabama</td>\n",
       "      <td>31</td>\n",
       "      <td>2/17/2019</td>\n",
       "      <td>3</td>\n",
       "      <td>married</td>\n",
       "      <td>40423</td>\n",
       "      <td>South</td>\n",
       "      <td>No</td>\n",
       "    </tr>\n",
       "    <tr>\n",
       "      <th>3</th>\n",
       "      <td>2254736</td>\n",
       "      <td>1</td>\n",
       "      <td>prior</td>\n",
       "      <td>4</td>\n",
       "      <td>4</td>\n",
       "      <td>7</td>\n",
       "      <td>29.0</td>\n",
       "      <td>196</td>\n",
       "      <td>1</td>\n",
       "      <td>1</td>\n",
       "      <td>...</td>\n",
       "      <td>Non-frequent customer</td>\n",
       "      <td>Female</td>\n",
       "      <td>Alabama</td>\n",
       "      <td>31</td>\n",
       "      <td>2/17/2019</td>\n",
       "      <td>3</td>\n",
       "      <td>married</td>\n",
       "      <td>40423</td>\n",
       "      <td>South</td>\n",
       "      <td>No</td>\n",
       "    </tr>\n",
       "    <tr>\n",
       "      <th>4</th>\n",
       "      <td>431534</td>\n",
       "      <td>1</td>\n",
       "      <td>prior</td>\n",
       "      <td>5</td>\n",
       "      <td>4</td>\n",
       "      <td>15</td>\n",
       "      <td>28.0</td>\n",
       "      <td>196</td>\n",
       "      <td>1</td>\n",
       "      <td>1</td>\n",
       "      <td>...</td>\n",
       "      <td>Non-frequent customer</td>\n",
       "      <td>Female</td>\n",
       "      <td>Alabama</td>\n",
       "      <td>31</td>\n",
       "      <td>2/17/2019</td>\n",
       "      <td>3</td>\n",
       "      <td>married</td>\n",
       "      <td>40423</td>\n",
       "      <td>South</td>\n",
       "      <td>No</td>\n",
       "    </tr>\n",
       "    <tr>\n",
       "      <th>5</th>\n",
       "      <td>3367565</td>\n",
       "      <td>1</td>\n",
       "      <td>prior</td>\n",
       "      <td>6</td>\n",
       "      <td>2</td>\n",
       "      <td>7</td>\n",
       "      <td>19.0</td>\n",
       "      <td>196</td>\n",
       "      <td>1</td>\n",
       "      <td>1</td>\n",
       "      <td>...</td>\n",
       "      <td>Non-frequent customer</td>\n",
       "      <td>Female</td>\n",
       "      <td>Alabama</td>\n",
       "      <td>31</td>\n",
       "      <td>2/17/2019</td>\n",
       "      <td>3</td>\n",
       "      <td>married</td>\n",
       "      <td>40423</td>\n",
       "      <td>South</td>\n",
       "      <td>No</td>\n",
       "    </tr>\n",
       "    <tr>\n",
       "      <th>6</th>\n",
       "      <td>550135</td>\n",
       "      <td>1</td>\n",
       "      <td>prior</td>\n",
       "      <td>7</td>\n",
       "      <td>1</td>\n",
       "      <td>9</td>\n",
       "      <td>20.0</td>\n",
       "      <td>196</td>\n",
       "      <td>1</td>\n",
       "      <td>1</td>\n",
       "      <td>...</td>\n",
       "      <td>Non-frequent customer</td>\n",
       "      <td>Female</td>\n",
       "      <td>Alabama</td>\n",
       "      <td>31</td>\n",
       "      <td>2/17/2019</td>\n",
       "      <td>3</td>\n",
       "      <td>married</td>\n",
       "      <td>40423</td>\n",
       "      <td>South</td>\n",
       "      <td>No</td>\n",
       "    </tr>\n",
       "    <tr>\n",
       "      <th>7</th>\n",
       "      <td>3108588</td>\n",
       "      <td>1</td>\n",
       "      <td>prior</td>\n",
       "      <td>8</td>\n",
       "      <td>1</td>\n",
       "      <td>14</td>\n",
       "      <td>14.0</td>\n",
       "      <td>196</td>\n",
       "      <td>2</td>\n",
       "      <td>1</td>\n",
       "      <td>...</td>\n",
       "      <td>Non-frequent customer</td>\n",
       "      <td>Female</td>\n",
       "      <td>Alabama</td>\n",
       "      <td>31</td>\n",
       "      <td>2/17/2019</td>\n",
       "      <td>3</td>\n",
       "      <td>married</td>\n",
       "      <td>40423</td>\n",
       "      <td>South</td>\n",
       "      <td>No</td>\n",
       "    </tr>\n",
       "    <tr>\n",
       "      <th>8</th>\n",
       "      <td>2295261</td>\n",
       "      <td>1</td>\n",
       "      <td>prior</td>\n",
       "      <td>9</td>\n",
       "      <td>1</td>\n",
       "      <td>16</td>\n",
       "      <td>0.0</td>\n",
       "      <td>196</td>\n",
       "      <td>4</td>\n",
       "      <td>1</td>\n",
       "      <td>...</td>\n",
       "      <td>Non-frequent customer</td>\n",
       "      <td>Female</td>\n",
       "      <td>Alabama</td>\n",
       "      <td>31</td>\n",
       "      <td>2/17/2019</td>\n",
       "      <td>3</td>\n",
       "      <td>married</td>\n",
       "      <td>40423</td>\n",
       "      <td>South</td>\n",
       "      <td>No</td>\n",
       "    </tr>\n",
       "    <tr>\n",
       "      <th>9</th>\n",
       "      <td>2550362</td>\n",
       "      <td>1</td>\n",
       "      <td>prior</td>\n",
       "      <td>10</td>\n",
       "      <td>4</td>\n",
       "      <td>8</td>\n",
       "      <td>30.0</td>\n",
       "      <td>196</td>\n",
       "      <td>1</td>\n",
       "      <td>1</td>\n",
       "      <td>...</td>\n",
       "      <td>Non-frequent customer</td>\n",
       "      <td>Female</td>\n",
       "      <td>Alabama</td>\n",
       "      <td>31</td>\n",
       "      <td>2/17/2019</td>\n",
       "      <td>3</td>\n",
       "      <td>married</td>\n",
       "      <td>40423</td>\n",
       "      <td>South</td>\n",
       "      <td>No</td>\n",
       "    </tr>\n",
       "    <tr>\n",
       "      <th>10</th>\n",
       "      <td>2539329</td>\n",
       "      <td>1</td>\n",
       "      <td>prior</td>\n",
       "      <td>1</td>\n",
       "      <td>2</td>\n",
       "      <td>8</td>\n",
       "      <td>NaN</td>\n",
       "      <td>14084</td>\n",
       "      <td>2</td>\n",
       "      <td>0</td>\n",
       "      <td>...</td>\n",
       "      <td>Non-frequent customer</td>\n",
       "      <td>Female</td>\n",
       "      <td>Alabama</td>\n",
       "      <td>31</td>\n",
       "      <td>2/17/2019</td>\n",
       "      <td>3</td>\n",
       "      <td>married</td>\n",
       "      <td>40423</td>\n",
       "      <td>South</td>\n",
       "      <td>No</td>\n",
       "    </tr>\n",
       "    <tr>\n",
       "      <th>11</th>\n",
       "      <td>2539329</td>\n",
       "      <td>1</td>\n",
       "      <td>prior</td>\n",
       "      <td>1</td>\n",
       "      <td>2</td>\n",
       "      <td>8</td>\n",
       "      <td>NaN</td>\n",
       "      <td>12427</td>\n",
       "      <td>3</td>\n",
       "      <td>0</td>\n",
       "      <td>...</td>\n",
       "      <td>Non-frequent customer</td>\n",
       "      <td>Female</td>\n",
       "      <td>Alabama</td>\n",
       "      <td>31</td>\n",
       "      <td>2/17/2019</td>\n",
       "      <td>3</td>\n",
       "      <td>married</td>\n",
       "      <td>40423</td>\n",
       "      <td>South</td>\n",
       "      <td>No</td>\n",
       "    </tr>\n",
       "    <tr>\n",
       "      <th>12</th>\n",
       "      <td>2398795</td>\n",
       "      <td>1</td>\n",
       "      <td>prior</td>\n",
       "      <td>2</td>\n",
       "      <td>3</td>\n",
       "      <td>7</td>\n",
       "      <td>15.0</td>\n",
       "      <td>12427</td>\n",
       "      <td>3</td>\n",
       "      <td>1</td>\n",
       "      <td>...</td>\n",
       "      <td>Non-frequent customer</td>\n",
       "      <td>Female</td>\n",
       "      <td>Alabama</td>\n",
       "      <td>31</td>\n",
       "      <td>2/17/2019</td>\n",
       "      <td>3</td>\n",
       "      <td>married</td>\n",
       "      <td>40423</td>\n",
       "      <td>South</td>\n",
       "      <td>No</td>\n",
       "    </tr>\n",
       "    <tr>\n",
       "      <th>13</th>\n",
       "      <td>473747</td>\n",
       "      <td>1</td>\n",
       "      <td>prior</td>\n",
       "      <td>3</td>\n",
       "      <td>3</td>\n",
       "      <td>12</td>\n",
       "      <td>21.0</td>\n",
       "      <td>12427</td>\n",
       "      <td>2</td>\n",
       "      <td>1</td>\n",
       "      <td>...</td>\n",
       "      <td>Non-frequent customer</td>\n",
       "      <td>Female</td>\n",
       "      <td>Alabama</td>\n",
       "      <td>31</td>\n",
       "      <td>2/17/2019</td>\n",
       "      <td>3</td>\n",
       "      <td>married</td>\n",
       "      <td>40423</td>\n",
       "      <td>South</td>\n",
       "      <td>No</td>\n",
       "    </tr>\n",
       "    <tr>\n",
       "      <th>14</th>\n",
       "      <td>2254736</td>\n",
       "      <td>1</td>\n",
       "      <td>prior</td>\n",
       "      <td>4</td>\n",
       "      <td>4</td>\n",
       "      <td>7</td>\n",
       "      <td>29.0</td>\n",
       "      <td>12427</td>\n",
       "      <td>2</td>\n",
       "      <td>1</td>\n",
       "      <td>...</td>\n",
       "      <td>Non-frequent customer</td>\n",
       "      <td>Female</td>\n",
       "      <td>Alabama</td>\n",
       "      <td>31</td>\n",
       "      <td>2/17/2019</td>\n",
       "      <td>3</td>\n",
       "      <td>married</td>\n",
       "      <td>40423</td>\n",
       "      <td>South</td>\n",
       "      <td>No</td>\n",
       "    </tr>\n",
       "    <tr>\n",
       "      <th>15</th>\n",
       "      <td>431534</td>\n",
       "      <td>1</td>\n",
       "      <td>prior</td>\n",
       "      <td>5</td>\n",
       "      <td>4</td>\n",
       "      <td>15</td>\n",
       "      <td>28.0</td>\n",
       "      <td>12427</td>\n",
       "      <td>2</td>\n",
       "      <td>1</td>\n",
       "      <td>...</td>\n",
       "      <td>Non-frequent customer</td>\n",
       "      <td>Female</td>\n",
       "      <td>Alabama</td>\n",
       "      <td>31</td>\n",
       "      <td>2/17/2019</td>\n",
       "      <td>3</td>\n",
       "      <td>married</td>\n",
       "      <td>40423</td>\n",
       "      <td>South</td>\n",
       "      <td>No</td>\n",
       "    </tr>\n",
       "    <tr>\n",
       "      <th>16</th>\n",
       "      <td>3367565</td>\n",
       "      <td>1</td>\n",
       "      <td>prior</td>\n",
       "      <td>6</td>\n",
       "      <td>2</td>\n",
       "      <td>7</td>\n",
       "      <td>19.0</td>\n",
       "      <td>12427</td>\n",
       "      <td>2</td>\n",
       "      <td>1</td>\n",
       "      <td>...</td>\n",
       "      <td>Non-frequent customer</td>\n",
       "      <td>Female</td>\n",
       "      <td>Alabama</td>\n",
       "      <td>31</td>\n",
       "      <td>2/17/2019</td>\n",
       "      <td>3</td>\n",
       "      <td>married</td>\n",
       "      <td>40423</td>\n",
       "      <td>South</td>\n",
       "      <td>No</td>\n",
       "    </tr>\n",
       "    <tr>\n",
       "      <th>17</th>\n",
       "      <td>550135</td>\n",
       "      <td>1</td>\n",
       "      <td>prior</td>\n",
       "      <td>7</td>\n",
       "      <td>1</td>\n",
       "      <td>9</td>\n",
       "      <td>20.0</td>\n",
       "      <td>12427</td>\n",
       "      <td>3</td>\n",
       "      <td>1</td>\n",
       "      <td>...</td>\n",
       "      <td>Non-frequent customer</td>\n",
       "      <td>Female</td>\n",
       "      <td>Alabama</td>\n",
       "      <td>31</td>\n",
       "      <td>2/17/2019</td>\n",
       "      <td>3</td>\n",
       "      <td>married</td>\n",
       "      <td>40423</td>\n",
       "      <td>South</td>\n",
       "      <td>No</td>\n",
       "    </tr>\n",
       "    <tr>\n",
       "      <th>18</th>\n",
       "      <td>3108588</td>\n",
       "      <td>1</td>\n",
       "      <td>prior</td>\n",
       "      <td>8</td>\n",
       "      <td>1</td>\n",
       "      <td>14</td>\n",
       "      <td>14.0</td>\n",
       "      <td>12427</td>\n",
       "      <td>1</td>\n",
       "      <td>1</td>\n",
       "      <td>...</td>\n",
       "      <td>Non-frequent customer</td>\n",
       "      <td>Female</td>\n",
       "      <td>Alabama</td>\n",
       "      <td>31</td>\n",
       "      <td>2/17/2019</td>\n",
       "      <td>3</td>\n",
       "      <td>married</td>\n",
       "      <td>40423</td>\n",
       "      <td>South</td>\n",
       "      <td>No</td>\n",
       "    </tr>\n",
       "    <tr>\n",
       "      <th>19</th>\n",
       "      <td>2295261</td>\n",
       "      <td>1</td>\n",
       "      <td>prior</td>\n",
       "      <td>9</td>\n",
       "      <td>1</td>\n",
       "      <td>16</td>\n",
       "      <td>0.0</td>\n",
       "      <td>12427</td>\n",
       "      <td>6</td>\n",
       "      <td>1</td>\n",
       "      <td>...</td>\n",
       "      <td>Non-frequent customer</td>\n",
       "      <td>Female</td>\n",
       "      <td>Alabama</td>\n",
       "      <td>31</td>\n",
       "      <td>2/17/2019</td>\n",
       "      <td>3</td>\n",
       "      <td>married</td>\n",
       "      <td>40423</td>\n",
       "      <td>South</td>\n",
       "      <td>No</td>\n",
       "    </tr>\n",
       "  </tbody>\n",
       "</table>\n",
       "<p>20 rows × 30 columns</p>\n",
       "</div>"
      ],
      "text/plain": [
       "    order_id  user_id eval_set  order_number  order_dow  order_hour_of_day  \\\n",
       "0    2539329        1    prior             1          2                  8   \n",
       "1    2398795        1    prior             2          3                  7   \n",
       "2     473747        1    prior             3          3                 12   \n",
       "3    2254736        1    prior             4          4                  7   \n",
       "4     431534        1    prior             5          4                 15   \n",
       "5    3367565        1    prior             6          2                  7   \n",
       "6     550135        1    prior             7          1                  9   \n",
       "7    3108588        1    prior             8          1                 14   \n",
       "8    2295261        1    prior             9          1                 16   \n",
       "9    2550362        1    prior            10          4                  8   \n",
       "10   2539329        1    prior             1          2                  8   \n",
       "11   2539329        1    prior             1          2                  8   \n",
       "12   2398795        1    prior             2          3                  7   \n",
       "13    473747        1    prior             3          3                 12   \n",
       "14   2254736        1    prior             4          4                  7   \n",
       "15    431534        1    prior             5          4                 15   \n",
       "16   3367565        1    prior             6          2                  7   \n",
       "17    550135        1    prior             7          1                  9   \n",
       "18   3108588        1    prior             8          1                 14   \n",
       "19   2295261        1    prior             9          1                 16   \n",
       "\n",
       "    days_since_prior_order  product_id  add_to_cart_order  reordered  ...  \\\n",
       "0                      NaN         196                  1          0  ...   \n",
       "1                     15.0         196                  1          1  ...   \n",
       "2                     21.0         196                  1          1  ...   \n",
       "3                     29.0         196                  1          1  ...   \n",
       "4                     28.0         196                  1          1  ...   \n",
       "5                     19.0         196                  1          1  ...   \n",
       "6                     20.0         196                  1          1  ...   \n",
       "7                     14.0         196                  2          1  ...   \n",
       "8                      0.0         196                  4          1  ...   \n",
       "9                     30.0         196                  1          1  ...   \n",
       "10                     NaN       14084                  2          0  ...   \n",
       "11                     NaN       12427                  3          0  ...   \n",
       "12                    15.0       12427                  3          1  ...   \n",
       "13                    21.0       12427                  2          1  ...   \n",
       "14                    29.0       12427                  2          1  ...   \n",
       "15                    28.0       12427                  2          1  ...   \n",
       "16                    19.0       12427                  2          1  ...   \n",
       "17                    20.0       12427                  3          1  ...   \n",
       "18                    14.0       12427                  1          1  ...   \n",
       "19                     0.0       12427                  6          1  ...   \n",
       "\n",
       "     order_frequency_flag  Gender    State  Age date_joined  n_dependants  \\\n",
       "0   Non-frequent customer  Female  Alabama   31   2/17/2019             3   \n",
       "1   Non-frequent customer  Female  Alabama   31   2/17/2019             3   \n",
       "2   Non-frequent customer  Female  Alabama   31   2/17/2019             3   \n",
       "3   Non-frequent customer  Female  Alabama   31   2/17/2019             3   \n",
       "4   Non-frequent customer  Female  Alabama   31   2/17/2019             3   \n",
       "5   Non-frequent customer  Female  Alabama   31   2/17/2019             3   \n",
       "6   Non-frequent customer  Female  Alabama   31   2/17/2019             3   \n",
       "7   Non-frequent customer  Female  Alabama   31   2/17/2019             3   \n",
       "8   Non-frequent customer  Female  Alabama   31   2/17/2019             3   \n",
       "9   Non-frequent customer  Female  Alabama   31   2/17/2019             3   \n",
       "10  Non-frequent customer  Female  Alabama   31   2/17/2019             3   \n",
       "11  Non-frequent customer  Female  Alabama   31   2/17/2019             3   \n",
       "12  Non-frequent customer  Female  Alabama   31   2/17/2019             3   \n",
       "13  Non-frequent customer  Female  Alabama   31   2/17/2019             3   \n",
       "14  Non-frequent customer  Female  Alabama   31   2/17/2019             3   \n",
       "15  Non-frequent customer  Female  Alabama   31   2/17/2019             3   \n",
       "16  Non-frequent customer  Female  Alabama   31   2/17/2019             3   \n",
       "17  Non-frequent customer  Female  Alabama   31   2/17/2019             3   \n",
       "18  Non-frequent customer  Female  Alabama   31   2/17/2019             3   \n",
       "19  Non-frequent customer  Female  Alabama   31   2/17/2019             3   \n",
       "\n",
       "   fam_status  income region  exclusion_flag  \n",
       "0     married   40423  South              No  \n",
       "1     married   40423  South              No  \n",
       "2     married   40423  South              No  \n",
       "3     married   40423  South              No  \n",
       "4     married   40423  South              No  \n",
       "5     married   40423  South              No  \n",
       "6     married   40423  South              No  \n",
       "7     married   40423  South              No  \n",
       "8     married   40423  South              No  \n",
       "9     married   40423  South              No  \n",
       "10    married   40423  South              No  \n",
       "11    married   40423  South              No  \n",
       "12    married   40423  South              No  \n",
       "13    married   40423  South              No  \n",
       "14    married   40423  South              No  \n",
       "15    married   40423  South              No  \n",
       "16    married   40423  South              No  \n",
       "17    married   40423  South              No  \n",
       "18    married   40423  South              No  \n",
       "19    married   40423  South              No  \n",
       "\n",
       "[20 rows x 30 columns]"
      ]
     },
     "execution_count": 36,
     "metadata": {},
     "output_type": "execute_result"
    }
   ],
   "source": [
    "# checking the columns\n",
    "df_cust_merge.head(20)"
   ]
  },
  {
   "cell_type": "code",
   "execution_count": 37,
   "id": "8d48e946",
   "metadata": {},
   "outputs": [],
   "source": [
    "# making subset df excluding low activity customers\n",
    "df_low_activity_excluded = df_cust_merge[df_cust_merge['exclusion_flag']== 'No']"
   ]
  },
  {
   "cell_type": "code",
   "execution_count": 38,
   "id": "a816076a",
   "metadata": {},
   "outputs": [
    {
     "data": {
      "text/plain": [
       "No     30992664\n",
       "Yes     1441548\n",
       "Name: exclusion_flag, dtype: int64"
      ]
     },
     "execution_count": 38,
     "metadata": {},
     "output_type": "execute_result"
    }
   ],
   "source": [
    "# checking the count for the exclusion flag\n",
    "df_cust_merge['exclusion_flag'].value_counts(dropna = False)"
   ]
  },
  {
   "cell_type": "code",
   "execution_count": 39,
   "id": "9cdd9c09",
   "metadata": {},
   "outputs": [
    {
     "data": {
      "text/plain": [
       "(30992664, 30)"
      ]
     },
     "execution_count": 39,
     "metadata": {},
     "output_type": "execute_result"
    }
   ],
   "source": [
    "# seeing if the number matches in the new subset df\n",
    "df_low_activity_excluded.shape"
   ]
  },
  {
   "cell_type": "code",
   "execution_count": 40,
   "id": "75dc97e2",
   "metadata": {},
   "outputs": [],
   "source": [
    "# Export new data set to pkl\n",
    "\n",
    "df_low_activity_excluded.to_pickle(os.path.join(path, '02 Data','Prepared Data', 'low_activity_excluded.pkl'))"
   ]
  },
  {
   "cell_type": "markdown",
   "id": "f4619509",
   "metadata": {},
   "source": [
    "# creating an age flag"
   ]
  },
  {
   "cell_type": "code",
   "execution_count": 48,
   "id": "0ca5cc90",
   "metadata": {},
   "outputs": [],
   "source": [
    "# creating an age flag\n",
    "df_cust_merge.loc[df_cust_merge['Age']>65,'age_flag'] = 'Senior'"
   ]
  },
  {
   "cell_type": "code",
   "execution_count": 56,
   "id": "a3278747",
   "metadata": {},
   "outputs": [],
   "source": [
    "# creating an age flag\n",
    "df_cust_merge.loc[(df_cust_merge['Age']<=65) & (df_cust_merge['Age']>44),'age_flag'] = 'Middle Age'"
   ]
  },
  {
   "cell_type": "code",
   "execution_count": 58,
   "id": "cfcd8593",
   "metadata": {},
   "outputs": [],
   "source": [
    "# creating an age flag\n",
    "df_cust_merge.loc[df_cust_merge['Age']<=45,'age_flag'] = 'Young Adult'"
   ]
  },
  {
   "cell_type": "code",
   "execution_count": 59,
   "id": "c4fa8b59",
   "metadata": {},
   "outputs": [
    {
     "data": {
      "text/plain": [
       "Young Adult    14213977\n",
       "Middle Age     10125017\n",
       "Senior          8095218\n",
       "Name: age_flag, dtype: int64"
      ]
     },
     "execution_count": 59,
     "metadata": {},
     "output_type": "execute_result"
    }
   ],
   "source": [
    "#checking count\n",
    "df_cust_merge['age_flag'].value_counts(dropna = False)"
   ]
  },
  {
   "cell_type": "markdown",
   "id": "20329616",
   "metadata": {},
   "source": [
    "# Visualization"
   ]
  },
  {
   "cell_type": "code",
   "execution_count": 60,
   "id": "5dc35f6a",
   "metadata": {},
   "outputs": [
    {
     "data": {
      "image/png": "[encoded data removed]",
      "text/plain": [
       "<Figure size 640x480 with 1 Axes>"
      ]
     },
     "metadata": {},
     "output_type": "display_data"
    }
   ],
   "source": [
    "# bar chart showing customers by age bracket\n",
    "bar_age = df_cust_merge['age_flag'].value_counts().plot.bar()"
   ]
  },
  {
   "cell_type": "code",
   "execution_count": 62,
   "id": "351bf828",
   "metadata": {},
   "outputs": [],
   "source": [
    "# saving bar chart\n",
    "bar_age.figure.savefig(os.path.join(path, '04 Analysis','Visualization', 'bar_age.png'))"
   ]
  },
  {
   "cell_type": "code",
   "execution_count": 63,
   "id": "29b74d39",
   "metadata": {},
   "outputs": [
    {
     "data": {
      "image/png": "[encoded data removed]",
      "text/plain": [
       "<Figure size 640x480 with 1 Axes>"
      ]
     },
     "metadata": {},
     "output_type": "display_data"
    }
   ],
   "source": [
    "# bar chart for dept _id purchases\n",
    "bar_dept = df_cust_merge['department_id'].value_counts().plot.bar()"
   ]
  },
  {
   "cell_type": "code",
   "execution_count": 64,
   "id": "133996c0",
   "metadata": {},
   "outputs": [],
   "source": [
    "department_names = {1: 'Frozen', 2: 'Other', 3: 'Bakery', 4: 'Produce',5: 'Alcohol', 6: 'International',7: 'Beverages', 8:'Pets',9:'Dry Goods Pasta',10: 'Bulk', 11: 'Personal Care', 12: 'Meat/Seafood', 13: 'Pantry', 14: 'Breakfast',15:'Canned Goods', 16: 'Dairy/Eggs', 17: 'Household', 18: ' Babies', 19:'Snacks',20:'Deli',21:'Missing'}"
   ]
  },
  {
   "cell_type": "code",
   "execution_count": 65,
   "id": "a76a0b22",
   "metadata": {},
   "outputs": [],
   "source": [
    "department_counts = df_cust_merge['department_id'].value_counts()"
   ]
  },
  {
   "cell_type": "code",
   "execution_count": 66,
   "id": "ad82f319",
   "metadata": {},
   "outputs": [
    {
     "data": {
      "image/png": "[encoded data removed]",
      "text/plain": [
       "<Figure size 640x480 with 1 Axes>"
      ]
     },
     "metadata": {},
     "output_type": "display_data"
    }
   ],
   "source": [
    "ax = department_counts.plot.bar()\n",
    "ax.set_xticklabels([department_names.get(x, '') for x in department_counts.index])\n",
    "for i, v in enumerate(department_counts):\n",
    "    ax.text(i, v, str(v), ha='center', va='bottom')\n",
    "    plt.show()"
   ]
  },
  {
   "cell_type": "code",
   "execution_count": 67,
   "id": "567aad0c",
   "metadata": {},
   "outputs": [],
   "source": [
    "# saving bar chart for dept\n",
    "ax.figure.savefig(os.path.join(path, '04 Analysis','Visualization', 'bar_dept.png'))"
   ]
  },
  {
   "cell_type": "code",
   "execution_count": 68,
   "id": "13909ed2",
   "metadata": {},
   "outputs": [],
   "source": [
    "# multi bar chart of dept and region\n",
    "region_department_counts = df_cust_merge.groupby(['department_id','region']).size().unstack(fill_value=0)"
   ]
  },
  {
   "cell_type": "code",
   "execution_count": 69,
   "id": "20cec8ef",
   "metadata": {},
   "outputs": [
    {
     "data": {
      "image/png": "[encoded data removed]",
      "text/plain": [
       "<Figure size 640x480 with 1 Axes>"
      ]
     },
     "metadata": {},
     "output_type": "display_data"
    }
   ],
   "source": [
    "# multi bar chart for region and dept\n",
    "reg_dept = region_department_counts.plot.bar(stacked=False)\n"
   ]
  },
  {
   "cell_type": "code",
   "execution_count": 70,
   "id": "f3ddb47e",
   "metadata": {},
   "outputs": [],
   "source": [
    "# saving bar chart for reg and dept\n",
    "reg_dept.figure.savefig(os.path.join(path, '04 Analysis','Visualization', 'bar_reg_dept.png'))"
   ]
  },
  {
   "cell_type": "code",
   "execution_count": 71,
   "id": "fdba914d",
   "metadata": {},
   "outputs": [],
   "source": [
    "# bar chart of dept and loyalty\n",
    "loyalty_department_counts = df_cust_merge.groupby(['department_id','loyalty_flag']).size().unstack(fill_value=0)"
   ]
  },
  {
   "cell_type": "code",
   "execution_count": 72,
   "id": "b9416263",
   "metadata": {},
   "outputs": [
    {
     "data": {
      "image/png": "[encoded data removed]",
      "text/plain": [
       "<Figure size 640x480 with 1 Axes>"
      ]
     },
     "metadata": {},
     "output_type": "display_data"
    }
   ],
   "source": [
    "# stacked bar chart for loyalty and dept\n",
    "loyal_dept = loyalty_department_counts.plot.bar(stacked=True)"
   ]
  },
  {
   "cell_type": "code",
   "execution_count": 73,
   "id": "b91c6255",
   "metadata": {},
   "outputs": [],
   "source": [
    "# saving bar chart for loyalty and dept\n",
    "loyal_dept.figure.savefig(os.path.join(path, '04 Analysis','Visualization', 'bar_loyal_dept.png'))"
   ]
  },
  {
   "cell_type": "code",
   "execution_count": null,
   "id": "c8271b53",
   "metadata": {},
   "outputs": [],
   "source": [
    "# Loyalty Status"
   ]
  },
  {
   "cell_type": "code",
   "execution_count": 74,
   "id": "480dd92b",
   "metadata": {},
   "outputs": [],
   "source": [
    "# grouping age and loyalty\n",
    "age_loyalty_counts = df_cust_merge.groupby(['age_flag','loyalty_flag']).size().unstack(fill_value=0)"
   ]
  },
  {
   "cell_type": "code",
   "execution_count": 75,
   "id": "07009bca",
   "metadata": {},
   "outputs": [
    {
     "data": {
      "image/png": "[encoded data removed]",
      "text/plain": [
       "<Figure size 640x480 with 1 Axes>"
      ]
     },
     "metadata": {},
     "output_type": "display_data"
    }
   ],
   "source": [
    "# bar for age and loyalty \n",
    "age_loyalty_counts = age_loyalty_counts.plot.bar(stacked=True )"
   ]
  },
  {
   "cell_type": "code",
   "execution_count": 76,
   "id": "78ed49f5",
   "metadata": {},
   "outputs": [],
   "source": [
    "# saving bar for age and loyalty\n",
    "age_loyalty_counts.figure.savefig(os.path.join(path, '04 Analysis','Visualization', 'age_loyalty.png'))"
   ]
  },
  {
   "cell_type": "code",
   "execution_count": 78,
   "id": "90d8e06c",
   "metadata": {},
   "outputs": [],
   "source": [
    "# grouping marital (family status) and loyalty\n",
    "marital_loyalty_counts = df_cust_merge.groupby(['fam_status','loyalty_flag']).size().unstack(fill_value=0)"
   ]
  },
  {
   "cell_type": "code",
   "execution_count": 79,
   "id": "1e02a85f",
   "metadata": {},
   "outputs": [
    {
     "data": {
      "image/png": "[encoded data removed]",
      "text/plain": [
       "<Figure size 640x480 with 1 Axes>"
      ]
     },
     "metadata": {},
     "output_type": "display_data"
    }
   ],
   "source": [
    "# bar for marital and loyalty\n",
    "marital_loyalty_counts = marital_loyalty_counts.plot.bar(stacked=True )"
   ]
  },
  {
   "cell_type": "code",
   "execution_count": 80,
   "id": "e5a6ce5b",
   "metadata": {},
   "outputs": [],
   "source": [
    "# saving bar for marital and loyalty\n",
    "marital_loyalty_counts.figure.savefig(os.path.join(path, '04 Analysis','Visualization', 'marital_loyalty.png'))"
   ]
  },
  {
   "cell_type": "markdown",
   "id": "6b2c5d3d",
   "metadata": {},
   "source": [
    "# Visualizations for Kids"
   ]
  },
  {
   "cell_type": "code",
   "execution_count": 81,
   "id": "5199df29",
   "metadata": {},
   "outputs": [],
   "source": [
    "# making a group/list for kids\n",
    "kids = [1,2,3]"
   ]
  },
  {
   "cell_type": "code",
   "execution_count": 82,
   "id": "c1a16d15",
   "metadata": {},
   "outputs": [],
   "source": [
    "# making a group/list for no kids\n",
    "no_kids = [0]"
   ]
  },
  {
   "cell_type": "code",
   "execution_count": 85,
   "id": "7574152e",
   "metadata": {},
   "outputs": [],
   "source": [
    "# kids flag (number of departments)\n",
    "df_cust_merge.loc[df_cust_merge['n_dependants'].isin(kids), 'kids'] = 'has kids'"
   ]
  },
  {
   "cell_type": "code",
   "execution_count": 86,
   "id": "1d2f695a",
   "metadata": {},
   "outputs": [],
   "source": [
    "# kids flag\n",
    "df_cust_merge.loc[df_cust_merge['n_dependants'].isin(no_kids), 'kids'] = 'no kids'"
   ]
  },
  {
   "cell_type": "code",
   "execution_count": 87,
   "id": "30239bf8",
   "metadata": {},
   "outputs": [
    {
     "data": {
      "text/plain": [
       "has kids    24329015\n",
       "no kids      8105197\n",
       "Name: kids, dtype: int64"
      ]
     },
     "execution_count": 87,
     "metadata": {},
     "output_type": "execute_result"
    }
   ],
   "source": [
    "# checking count\n",
    "df_cust_merge['kids'].value_counts(dropna = False)"
   ]
  },
  {
   "cell_type": "code",
   "execution_count": 88,
   "id": "5beeccfe",
   "metadata": {},
   "outputs": [
    {
     "data": {
      "text/html": [
       "<div>\n",
       "<style scoped>\n",
       "    .dataframe tbody tr th:only-of-type {\n",
       "        vertical-align: middle;\n",
       "    }\n",
       "\n",
       "    .dataframe tbody tr th {\n",
       "        vertical-align: top;\n",
       "    }\n",
       "\n",
       "    .dataframe thead th {\n",
       "        text-align: right;\n",
       "    }\n",
       "</style>\n",
       "<table border=\"1\" class=\"dataframe\">\n",
       "  <thead>\n",
       "    <tr style=\"text-align: right;\">\n",
       "      <th></th>\n",
       "      <th>order_id</th>\n",
       "      <th>user_id</th>\n",
       "      <th>eval_set</th>\n",
       "      <th>order_number</th>\n",
       "      <th>order_dow</th>\n",
       "      <th>order_hour_of_day</th>\n",
       "      <th>days_since_prior_order</th>\n",
       "      <th>product_id</th>\n",
       "      <th>add_to_cart_order</th>\n",
       "      <th>reordered</th>\n",
       "      <th>...</th>\n",
       "      <th>State</th>\n",
       "      <th>Age</th>\n",
       "      <th>date_joined</th>\n",
       "      <th>n_dependants</th>\n",
       "      <th>fam_status</th>\n",
       "      <th>income</th>\n",
       "      <th>region</th>\n",
       "      <th>exclusion_flag</th>\n",
       "      <th>age_flag</th>\n",
       "      <th>kids</th>\n",
       "    </tr>\n",
       "  </thead>\n",
       "  <tbody>\n",
       "    <tr>\n",
       "      <th>0</th>\n",
       "      <td>2539329</td>\n",
       "      <td>1</td>\n",
       "      <td>prior</td>\n",
       "      <td>1</td>\n",
       "      <td>2</td>\n",
       "      <td>8</td>\n",
       "      <td>NaN</td>\n",
       "      <td>196</td>\n",
       "      <td>1</td>\n",
       "      <td>0</td>\n",
       "      <td>...</td>\n",
       "      <td>Alabama</td>\n",
       "      <td>31</td>\n",
       "      <td>2/17/2019</td>\n",
       "      <td>3</td>\n",
       "      <td>married</td>\n",
       "      <td>40423</td>\n",
       "      <td>South</td>\n",
       "      <td>No</td>\n",
       "      <td>Young Adult</td>\n",
       "      <td>has kids</td>\n",
       "    </tr>\n",
       "    <tr>\n",
       "      <th>1</th>\n",
       "      <td>2398795</td>\n",
       "      <td>1</td>\n",
       "      <td>prior</td>\n",
       "      <td>2</td>\n",
       "      <td>3</td>\n",
       "      <td>7</td>\n",
       "      <td>15.0</td>\n",
       "      <td>196</td>\n",
       "      <td>1</td>\n",
       "      <td>1</td>\n",
       "      <td>...</td>\n",
       "      <td>Alabama</td>\n",
       "      <td>31</td>\n",
       "      <td>2/17/2019</td>\n",
       "      <td>3</td>\n",
       "      <td>married</td>\n",
       "      <td>40423</td>\n",
       "      <td>South</td>\n",
       "      <td>No</td>\n",
       "      <td>Young Adult</td>\n",
       "      <td>has kids</td>\n",
       "    </tr>\n",
       "    <tr>\n",
       "      <th>2</th>\n",
       "      <td>473747</td>\n",
       "      <td>1</td>\n",
       "      <td>prior</td>\n",
       "      <td>3</td>\n",
       "      <td>3</td>\n",
       "      <td>12</td>\n",
       "      <td>21.0</td>\n",
       "      <td>196</td>\n",
       "      <td>1</td>\n",
       "      <td>1</td>\n",
       "      <td>...</td>\n",
       "      <td>Alabama</td>\n",
       "      <td>31</td>\n",
       "      <td>2/17/2019</td>\n",
       "      <td>3</td>\n",
       "      <td>married</td>\n",
       "      <td>40423</td>\n",
       "      <td>South</td>\n",
       "      <td>No</td>\n",
       "      <td>Young Adult</td>\n",
       "      <td>has kids</td>\n",
       "    </tr>\n",
       "    <tr>\n",
       "      <th>3</th>\n",
       "      <td>2254736</td>\n",
       "      <td>1</td>\n",
       "      <td>prior</td>\n",
       "      <td>4</td>\n",
       "      <td>4</td>\n",
       "      <td>7</td>\n",
       "      <td>29.0</td>\n",
       "      <td>196</td>\n",
       "      <td>1</td>\n",
       "      <td>1</td>\n",
       "      <td>...</td>\n",
       "      <td>Alabama</td>\n",
       "      <td>31</td>\n",
       "      <td>2/17/2019</td>\n",
       "      <td>3</td>\n",
       "      <td>married</td>\n",
       "      <td>40423</td>\n",
       "      <td>South</td>\n",
       "      <td>No</td>\n",
       "      <td>Young Adult</td>\n",
       "      <td>has kids</td>\n",
       "    </tr>\n",
       "    <tr>\n",
       "      <th>4</th>\n",
       "      <td>431534</td>\n",
       "      <td>1</td>\n",
       "      <td>prior</td>\n",
       "      <td>5</td>\n",
       "      <td>4</td>\n",
       "      <td>15</td>\n",
       "      <td>28.0</td>\n",
       "      <td>196</td>\n",
       "      <td>1</td>\n",
       "      <td>1</td>\n",
       "      <td>...</td>\n",
       "      <td>Alabama</td>\n",
       "      <td>31</td>\n",
       "      <td>2/17/2019</td>\n",
       "      <td>3</td>\n",
       "      <td>married</td>\n",
       "      <td>40423</td>\n",
       "      <td>South</td>\n",
       "      <td>No</td>\n",
       "      <td>Young Adult</td>\n",
       "      <td>has kids</td>\n",
       "    </tr>\n",
       "  </tbody>\n",
       "</table>\n",
       "<p>5 rows × 32 columns</p>\n",
       "</div>"
      ],
      "text/plain": [
       "   order_id  user_id eval_set  order_number  order_dow  order_hour_of_day  \\\n",
       "0   2539329        1    prior             1          2                  8   \n",
       "1   2398795        1    prior             2          3                  7   \n",
       "2    473747        1    prior             3          3                 12   \n",
       "3   2254736        1    prior             4          4                  7   \n",
       "4    431534        1    prior             5          4                 15   \n",
       "\n",
       "   days_since_prior_order  product_id  add_to_cart_order  reordered  ...  \\\n",
       "0                     NaN         196                  1          0  ...   \n",
       "1                    15.0         196                  1          1  ...   \n",
       "2                    21.0         196                  1          1  ...   \n",
       "3                    29.0         196                  1          1  ...   \n",
       "4                    28.0         196                  1          1  ...   \n",
       "\n",
       "     State  Age  date_joined  n_dependants fam_status  income region  \\\n",
       "0  Alabama   31    2/17/2019             3    married   40423  South   \n",
       "1  Alabama   31    2/17/2019             3    married   40423  South   \n",
       "2  Alabama   31    2/17/2019             3    married   40423  South   \n",
       "3  Alabama   31    2/17/2019             3    married   40423  South   \n",
       "4  Alabama   31    2/17/2019             3    married   40423  South   \n",
       "\n",
       "   exclusion_flag     age_flag      kids  \n",
       "0              No  Young Adult  has kids  \n",
       "1              No  Young Adult  has kids  \n",
       "2              No  Young Adult  has kids  \n",
       "3              No  Young Adult  has kids  \n",
       "4              No  Young Adult  has kids  \n",
       "\n",
       "[5 rows x 32 columns]"
      ]
     },
     "execution_count": 88,
     "metadata": {},
     "output_type": "execute_result"
    }
   ],
   "source": [
    "df_cust_merge.head()"
   ]
  },
  {
   "cell_type": "code",
   "execution_count": 89,
   "id": "c34b2046",
   "metadata": {},
   "outputs": [
    {
     "data": {
      "image/png": "[encoded data removed]",
      "text/plain": [
       "<Figure size 640x480 with 1 Axes>"
      ]
     },
     "metadata": {},
     "output_type": "display_data"
    }
   ],
   "source": [
    "# bar chart showing customers with kids\n",
    "bar_kids = df_cust_merge['kids'].value_counts().sort_index().plot.bar()"
   ]
  },
  {
   "cell_type": "code",
   "execution_count": 90,
   "id": "153ea26b",
   "metadata": {},
   "outputs": [],
   "source": [
    "#saving bar for kids\n",
    "bar_kids.figure.savefig(os.path.join(path, '04 Analysis','Visualization', 'bar_kids.png'))"
   ]
  },
  {
   "cell_type": "markdown",
   "id": "7a060262",
   "metadata": {},
   "source": [
    "# Income flag"
   ]
  },
  {
   "cell_type": "code",
   "execution_count": 91,
   "id": "150d9428",
   "metadata": {},
   "outputs": [],
   "source": [
    "# creating an income  flag\n",
    "df_cust_merge.loc[df_cust_merge['income']>= 156000,'income_flag'] = 'high income'"
   ]
  },
  {
   "cell_type": "code",
   "execution_count": 92,
   "id": "4737b247",
   "metadata": {},
   "outputs": [],
   "source": [
    "# creating an income flag\n",
    "df_cust_merge.loc[(df_cust_merge['income']<=155999) & (df_cust_merge['income']>=52000),'income_flag'] = 'middle income'"
   ]
  },
  {
   "cell_type": "code",
   "execution_count": 93,
   "id": "ea44d458",
   "metadata": {},
   "outputs": [],
   "source": [
    "# creating an income  flag\n",
    "df_cust_merge.loc[df_cust_merge['income'] <52000,'income_flag'] = 'low income'"
   ]
  },
  {
   "cell_type": "code",
   "execution_count": 94,
   "id": "b3098a12",
   "metadata": {},
   "outputs": [
    {
     "data": {
      "image/png": "[encoded data removed]",
      "text/plain": [
       "<Figure size 640x480 with 1 Axes>"
      ]
     },
     "metadata": {},
     "output_type": "display_data"
    }
   ],
   "source": [
    "bar_income = df_cust_merge['income_flag'].value_counts().sort_index().plot.bar()"
   ]
  },
  {
   "cell_type": "code",
   "execution_count": 95,
   "id": "7e98628f",
   "metadata": {},
   "outputs": [],
   "source": [
    "# saving bar for income\n",
    "bar_income.figure.savefig(os.path.join(path, '04 Analysis','Visualization', 'bar_income.png'))"
   ]
  },
  {
   "cell_type": "markdown",
   "id": "4dc1a301",
   "metadata": {},
   "source": [
    "# Dept Visualizations"
   ]
  },
  {
   "cell_type": "code",
   "execution_count": 96,
   "id": "516542e9",
   "metadata": {},
   "outputs": [],
   "source": [
    "# stacked bar chart of dept and age\n",
    "age_department_counts = df_cust_merge.groupby(['department_id','age_flag']).size().unstack(fill_value=0)"
   ]
  },
  {
   "cell_type": "code",
   "execution_count": 97,
   "id": "dea2c9ca",
   "metadata": {},
   "outputs": [
    {
     "data": {
      "image/png": "[encoded data removed]",
      "text/plain": [
       "<Figure size 640x480 with 1 Axes>"
      ]
     },
     "metadata": {},
     "output_type": "display_data"
    }
   ],
   "source": [
    "# bar for dept and age\n",
    "age_department = age_department_counts.plot.bar(stacked=True )"
   ]
  },
  {
   "cell_type": "code",
   "execution_count": 98,
   "id": "bd64b3ad",
   "metadata": {},
   "outputs": [],
   "source": [
    "# saving bar for age and dept\n",
    "age_department.figure.savefig(os.path.join(path, '04 Analysis','Visualization', 'bar_age_dept.png'))"
   ]
  },
  {
   "cell_type": "code",
   "execution_count": 99,
   "id": "393aac24",
   "metadata": {},
   "outputs": [],
   "source": [
    "# stacked bar chart of dept and kids\n",
    "kid_department_counts = df_cust_merge.groupby(['department_id','kids']).size().unstack(fill_value=0)"
   ]
  },
  {
   "cell_type": "code",
   "execution_count": 100,
   "id": "5bc02844",
   "metadata": {},
   "outputs": [
    {
     "data": {
      "image/png": "[encoded data removed]",
      "text/plain": [
       "<Figure size 640x480 with 1 Axes>"
      ]
     },
     "metadata": {},
     "output_type": "display_data"
    }
   ],
   "source": [
    "# bar for dept and kids\n",
    "kid_department = kid_department_counts.plot.bar(stacked=True )"
   ]
  },
  {
   "cell_type": "code",
   "execution_count": 101,
   "id": "6b0a59f4",
   "metadata": {},
   "outputs": [],
   "source": [
    "# saving bar for kid and dept\n",
    "kid_department.figure.savefig(os.path.join(path, '04 Analysis','Visualization', 'bar_kid_dept.png'))"
   ]
  },
  {
   "cell_type": "code",
   "execution_count": 102,
   "id": "c6ff5861",
   "metadata": {},
   "outputs": [],
   "source": [
    "# trying to make a stacked bar chart of dept and income\n",
    "income_department_counts = df_cust_merge.groupby(['department_id','income_flag']).size().unstack(fill_value=0)"
   ]
  },
  {
   "cell_type": "code",
   "execution_count": 103,
   "id": "211c105e",
   "metadata": {},
   "outputs": [
    {
     "data": {
      "image/png": "[encoded data removed]",
      "text/plain": [
       "<Figure size 640x480 with 1 Axes>"
      ]
     },
     "metadata": {},
     "output_type": "display_data"
    }
   ],
   "source": [
    "# bar for dept and income\n",
    "income_department = income_department_counts.plot.bar(stacked=True )"
   ]
  },
  {
   "cell_type": "code",
   "execution_count": 104,
   "id": "f5d031bb",
   "metadata": {},
   "outputs": [],
   "source": [
    "# saving bar for income and dept\n",
    "income_department.figure.savefig(os.path.join(path, '04 Analysis','Visualization', 'bar_income_dept.png'))"
   ]
  },
  {
   "cell_type": "markdown",
   "id": "4fe1bc6a",
   "metadata": {},
   "source": [
    "# Region Visulizations"
   ]
  },
  {
   "cell_type": "code",
   "execution_count": 105,
   "id": "105576a6",
   "metadata": {},
   "outputs": [],
   "source": [
    "# stacked bar chart of region and age\n",
    "region_age_counts = df_cust_merge.groupby(['region','age_flag']).size().unstack(fill_value=0)"
   ]
  },
  {
   "cell_type": "code",
   "execution_count": 106,
   "id": "8d854d79",
   "metadata": {},
   "outputs": [
    {
     "data": {
      "image/png": "[encoded data removed]",
      "text/plain": [
       "<Figure size 640x480 with 1 Axes>"
      ]
     },
     "metadata": {},
     "output_type": "display_data"
    }
   ],
   "source": [
    "# bar for region and age\n",
    "region_age = region_age_counts.sort_index().plot.bar(stacked=True )"
   ]
  },
  {
   "cell_type": "code",
   "execution_count": 107,
   "id": "749f54cc",
   "metadata": {},
   "outputs": [],
   "source": [
    "# saving bar for age and region\n",
    "region_age.figure.savefig(os.path.join(path, '04 Analysis','Visualization', 'bar_region_age.png'))"
   ]
  },
  {
   "cell_type": "code",
   "execution_count": 108,
   "id": "d74f0508",
   "metadata": {},
   "outputs": [],
   "source": [
    "# stacked bar chart of region and kids\n",
    "region_kid_counts = df_cust_merge.groupby(['region','kids']).size().unstack(fill_value=0)"
   ]
  },
  {
   "cell_type": "code",
   "execution_count": 109,
   "id": "6b49cd0c",
   "metadata": {},
   "outputs": [
    {
     "data": {
      "image/png": "[encoded data removed]",
      "text/plain": [
       "<Figure size 640x480 with 1 Axes>"
      ]
     },
     "metadata": {},
     "output_type": "display_data"
    }
   ],
   "source": [
    "# bar for region and kids\n",
    "region_kid = region_kid_counts.plot.bar(stacked=True )"
   ]
  },
  {
   "cell_type": "code",
   "execution_count": 110,
   "id": "5581fe2a",
   "metadata": {},
   "outputs": [],
   "source": [
    "# saving bar for age and region\n",
    "region_kid.figure.savefig(os.path.join(path, '04 Analysis','Visualization', 'bar_region_kid.png'))"
   ]
  },
  {
   "cell_type": "code",
   "execution_count": 111,
   "id": "689034e2",
   "metadata": {},
   "outputs": [],
   "source": [
    "# stacked bar chart of region and income\n",
    "region_income_counts = df_cust_merge.groupby(['region','income_flag']).size().unstack(fill_value=0)"
   ]
  },
  {
   "cell_type": "code",
   "execution_count": 112,
   "id": "81fff250",
   "metadata": {},
   "outputs": [
    {
     "data": {
      "image/png": "[encoded data removed]",
      "text/plain": [
       "<Figure size 640x480 with 1 Axes>"
      ]
     },
     "metadata": {},
     "output_type": "display_data"
    }
   ],
   "source": [
    "# bar for region and income\n",
    "region_income = region_income_counts.plot.bar(stacked=True )"
   ]
  },
  {
   "cell_type": "code",
   "execution_count": 113,
   "id": "d8e445ec",
   "metadata": {},
   "outputs": [],
   "source": [
    "# saving bar for income and region\n",
    "region_income.figure.savefig(os.path.join(path, '04 Analysis','Visualization', 'bar_region_income.png'))"
   ]
  },
  {
   "cell_type": "code",
   "execution_count": 115,
   "id": "6e71c3a2",
   "metadata": {},
   "outputs": [],
   "source": [
    "# stacked bar chart of region and marital_status\n",
    "region_marital_counts = df_cust_merge.groupby(['region','fam_status']).size().unstack(fill_value=0)"
   ]
  },
  {
   "cell_type": "code",
   "execution_count": 116,
   "id": "d1e73710",
   "metadata": {},
   "outputs": [
    {
     "data": {
      "image/png": "[encoded data removed]",
      "text/plain": [
       "<Figure size 640x480 with 1 Axes>"
      ]
     },
     "metadata": {},
     "output_type": "display_data"
    }
   ],
   "source": [
    "# bar for region and marital status\n",
    "region_marital = region_marital_counts.plot.bar(stacked=True )"
   ]
  },
  {
   "cell_type": "code",
   "execution_count": 117,
   "id": "c9c24ec1",
   "metadata": {},
   "outputs": [],
   "source": [
    "# saving bar for marital and region\n",
    "region_marital.figure.savefig(os.path.join(path, '04 Analysis','Visualization', 'bar_region_marital.png'))"
   ]
  },
  {
   "cell_type": "code",
   "execution_count": 119,
   "id": "9dea9b99",
   "metadata": {},
   "outputs": [],
   "source": [
    "# stacked bar chart of dept and marital_status\n",
    "dept_marital_counts = df_cust_merge.groupby(['department_id','fam_status']).size().unstack(fill_value=0)"
   ]
  },
  {
   "cell_type": "markdown",
   "id": "6e6a7a67",
   "metadata": {},
   "source": [
    "# marital status"
   ]
  },
  {
   "cell_type": "code",
   "execution_count": 120,
   "id": "66fdaf84",
   "metadata": {},
   "outputs": [
    {
     "data": {
      "image/png": "[encoded data removed]",
      "text/plain": [
       "<Figure size 640x480 with 1 Axes>"
      ]
     },
     "metadata": {},
     "output_type": "display_data"
    }
   ],
   "source": [
    "# bar for dept and marital status\n",
    "dept_marital = dept_marital_counts.plot.bar(stacked=True )"
   ]
  },
  {
   "cell_type": "code",
   "execution_count": 121,
   "id": "f6ac28b3",
   "metadata": {},
   "outputs": [],
   "source": [
    "# saving bar for marital and dept\n",
    "dept_marital.figure.savefig(os.path.join(path, '04 Analysis','Visualization', 'bar_dept_marital.png'))"
   ]
  },
  {
   "cell_type": "code",
   "execution_count": 122,
   "id": "d669c9ad",
   "metadata": {},
   "outputs": [
    {
     "data": {
      "image/png": "[encoded data removed]",
      "text/plain": [
       "<Figure size 640x480 with 1 Axes>"
      ]
     },
     "metadata": {},
     "output_type": "display_data"
    }
   ],
   "source": [
    "# bar chart for marital status\n",
    "bar_marital = df_cust_merge['fam_status'].value_counts().sort_index().plot.bar()"
   ]
  },
  {
   "cell_type": "code",
   "execution_count": 123,
   "id": "0633d5b4",
   "metadata": {},
   "outputs": [],
   "source": [
    "# saving bar for marital \n",
    "bar_marital.figure.savefig(os.path.join(path, '04 Analysis','Visualization', 'bar_marital.png'))"
   ]
  },
  {
   "cell_type": "markdown",
   "id": "51bd3f45",
   "metadata": {},
   "source": [
    "# Spending and age"
   ]
  },
  {
   "cell_type": "code",
   "execution_count": 124,
   "id": "c7dfcca6",
   "metadata": {},
   "outputs": [],
   "source": [
    "# stacked bar chart of spending_flag and age\n",
    "spending_age_counts = df_cust_merge.groupby(['age_flag','spending_flag']).size().unstack(fill_value=0)"
   ]
  },
  {
   "cell_type": "code",
   "execution_count": 125,
   "id": "b9bd3c3e",
   "metadata": {},
   "outputs": [
    {
     "data": {
      "image/png": "[encoded data removed]",
      "text/plain": [
       "<Figure size 640x480 with 1 Axes>"
      ]
     },
     "metadata": {},
     "output_type": "display_data"
    }
   ],
   "source": [
    "# trying to make a stacked bar chart of spending and age\n",
    "\n",
    "spending_age = spending_age_counts.plot.bar(stacked=False )"
   ]
  },
  {
   "cell_type": "code",
   "execution_count": 126,
   "id": "40fbf689",
   "metadata": {},
   "outputs": [],
   "source": [
    "# saving bar for marital \n",
    "spending_age.figure.savefig(os.path.join(path, '04 Analysis','Visualization', 'bar_marital.png'))"
   ]
  },
  {
   "cell_type": "markdown",
   "id": "fae26811",
   "metadata": {},
   "source": [
    "# Day of week visualizations"
   ]
  },
  {
   "cell_type": "code",
   "execution_count": 128,
   "id": "21441f4a",
   "metadata": {},
   "outputs": [],
   "source": [
    "# stacked bar chart of dow (day of week) and age\n",
    "dow_age_counts = df_cust_merge.groupby(['order_dow','age_flag']).size().unstack(fill_value=0)"
   ]
  },
  {
   "cell_type": "code",
   "execution_count": 129,
   "id": "d8164e0c",
   "metadata": {},
   "outputs": [
    {
     "data": {
      "image/png": "[encoded data removed]",
      "text/plain": [
       "<Figure size 640x480 with 1 Axes>"
      ]
     },
     "metadata": {},
     "output_type": "display_data"
    }
   ],
   "source": [
    "# bar chart for dow and age\n",
    "dow_age = dow_age_counts.plot.bar(stacked=False )"
   ]
  },
  {
   "cell_type": "code",
   "execution_count": 130,
   "id": "a49cde2f",
   "metadata": {},
   "outputs": [],
   "source": [
    "# saving bar for dow and age\n",
    "dow_age.figure.savefig(os.path.join(path, '04 Analysis','Visualization', 'bar_dow_age.png'))"
   ]
  },
  {
   "cell_type": "code",
   "execution_count": 131,
   "id": "d8108b5f",
   "metadata": {},
   "outputs": [],
   "source": [
    "# stacked bar chart of dow and marital\n",
    "dow_marital_counts =  df_cust_merge.groupby(['order_dow','fam_status']).size().unstack(fill_value=0)"
   ]
  },
  {
   "cell_type": "code",
   "execution_count": 132,
   "id": "f34b4d4e",
   "metadata": {},
   "outputs": [
    {
     "data": {
      "image/png": "[encoded data removed]",
      "text/plain": [
       "<Figure size 640x480 with 1 Axes>"
      ]
     },
     "metadata": {},
     "output_type": "display_data"
    }
   ],
   "source": [
    "# bar chart for dow and age\n",
    "dow_marital = dow_marital_counts.plot.bar(stacked=False )"
   ]
  },
  {
   "cell_type": "code",
   "execution_count": 134,
   "id": "bb7783d9",
   "metadata": {},
   "outputs": [],
   "source": [
    "# saving bar for dow and marital\n",
    "dow_marital.figure.savefig(os.path.join(path, '04 Analysis','Visualization', 'bar_dow_marital.png'))"
   ]
  },
  {
   "cell_type": "code",
   "execution_count": 136,
   "id": "0e63803d",
   "metadata": {},
   "outputs": [],
   "source": [
    "# stacked bar chart of dow and kids\n",
    "dow_kid_counts = df_cust_merge.groupby(['order_dow','kids']).size().unstack(fill_value=0)"
   ]
  },
  {
   "cell_type": "code",
   "execution_count": 137,
   "id": "8fe251bb",
   "metadata": {},
   "outputs": [
    {
     "data": {
      "image/png": "[encoded data removed]",
      "text/plain": [
       "<Figure size 640x480 with 1 Axes>"
      ]
     },
     "metadata": {},
     "output_type": "display_data"
    }
   ],
   "source": [
    "# bar chart for dow and kids\n",
    "dow_kid = dow_kid_counts.plot.bar(stacked=False )"
   ]
  },
  {
   "cell_type": "code",
   "execution_count": 138,
   "id": "1a4a84fc",
   "metadata": {},
   "outputs": [],
   "source": [
    "# saving bar for dow and kids\n",
    "dow_kid.figure.savefig(os.path.join(path, '04 Analysis','Visualization', 'bar_dow_kid.png'))"
   ]
  },
  {
   "cell_type": "code",
   "execution_count": 139,
   "id": "c66f7b6f",
   "metadata": {},
   "outputs": [],
   "source": [
    "# stacked bar chart of dow and income\n",
    "dow_income_counts = df_cust_merge.groupby(['order_dow','income_flag']).size().unstack(fill_value=0)"
   ]
  },
  {
   "cell_type": "code",
   "execution_count": 140,
   "id": "390e8c3b",
   "metadata": {},
   "outputs": [
    {
     "data": {
      "image/png": "[encoded data removed]",
      "text/plain": [
       "<Figure size 640x480 with 1 Axes>"
      ]
     },
     "metadata": {},
     "output_type": "display_data"
    }
   ],
   "source": [
    "# bar chart for dow and income\n",
    "dow_income = dow_income_counts.plot.bar(stacked=False )"
   ]
  },
  {
   "cell_type": "code",
   "execution_count": 141,
   "id": "29524282",
   "metadata": {},
   "outputs": [],
   "source": [
    "# saving bar for dow and income\n",
    "dow_income.figure.savefig(os.path.join(path, '04 Analysis','Visualization', 'bar_dow_income.png'))"
   ]
  },
  {
   "cell_type": "markdown",
   "id": "fd11d612",
   "metadata": {},
   "source": [
    "# Aggregations"
   ]
  },
  {
   "cell_type": "code",
   "execution_count": 145,
   "id": "5ad0066e",
   "metadata": {},
   "outputs": [],
   "source": [
    "# agregate the max, mean, and min variables on a user level for usage frequency and expenditure.\n",
    "\n",
    "aggregations= df_cust_merge.groupby('user_id').agg({'days_since_prior_order':['min', 'max', 'mean'], 'prices':['min', 'max', 'mean']}).reset_index()"
   ]
  },
  {
   "cell_type": "code",
   "execution_count": 146,
   "id": "e12e06f9",
   "metadata": {},
   "outputs": [
    {
     "data": {
      "text/html": [
       "<div>\n",
       "<style scoped>\n",
       "    .dataframe tbody tr th:only-of-type {\n",
       "        vertical-align: middle;\n",
       "    }\n",
       "\n",
       "    .dataframe tbody tr th {\n",
       "        vertical-align: top;\n",
       "    }\n",
       "\n",
       "    .dataframe thead tr th {\n",
       "        text-align: left;\n",
       "    }\n",
       "</style>\n",
       "<table border=\"1\" class=\"dataframe\">\n",
       "  <thead>\n",
       "    <tr>\n",
       "      <th></th>\n",
       "      <th>user_id</th>\n",
       "      <th colspan=\"3\" halign=\"left\">days_since_prior_order</th>\n",
       "      <th colspan=\"3\" halign=\"left\">prices</th>\n",
       "    </tr>\n",
       "    <tr>\n",
       "      <th></th>\n",
       "      <th></th>\n",
       "      <th>min</th>\n",
       "      <th>max</th>\n",
       "      <th>mean</th>\n",
       "      <th>min</th>\n",
       "      <th>max</th>\n",
       "      <th>mean</th>\n",
       "    </tr>\n",
       "  </thead>\n",
       "  <tbody>\n",
       "    <tr>\n",
       "      <th>0</th>\n",
       "      <td>1</td>\n",
       "      <td>0.0</td>\n",
       "      <td>30.0</td>\n",
       "      <td>20.259259</td>\n",
       "      <td>1.0</td>\n",
       "      <td>14.0</td>\n",
       "      <td>6.367797</td>\n",
       "    </tr>\n",
       "    <tr>\n",
       "      <th>1</th>\n",
       "      <td>2</td>\n",
       "      <td>3.0</td>\n",
       "      <td>30.0</td>\n",
       "      <td>15.967033</td>\n",
       "      <td>1.3</td>\n",
       "      <td>14.8</td>\n",
       "      <td>7.515897</td>\n",
       "    </tr>\n",
       "    <tr>\n",
       "      <th>2</th>\n",
       "      <td>3</td>\n",
       "      <td>7.0</td>\n",
       "      <td>21.0</td>\n",
       "      <td>11.487179</td>\n",
       "      <td>1.3</td>\n",
       "      <td>14.4</td>\n",
       "      <td>8.197727</td>\n",
       "    </tr>\n",
       "    <tr>\n",
       "      <th>3</th>\n",
       "      <td>4</td>\n",
       "      <td>0.0</td>\n",
       "      <td>21.0</td>\n",
       "      <td>15.357143</td>\n",
       "      <td>1.4</td>\n",
       "      <td>14.6</td>\n",
       "      <td>8.205556</td>\n",
       "    </tr>\n",
       "    <tr>\n",
       "      <th>4</th>\n",
       "      <td>5</td>\n",
       "      <td>10.0</td>\n",
       "      <td>19.0</td>\n",
       "      <td>14.500000</td>\n",
       "      <td>3.2</td>\n",
       "      <td>14.8</td>\n",
       "      <td>9.189189</td>\n",
       "    </tr>\n",
       "    <tr>\n",
       "      <th>5</th>\n",
       "      <td>6</td>\n",
       "      <td>6.0</td>\n",
       "      <td>12.0</td>\n",
       "      <td>7.800000</td>\n",
       "      <td>1.8</td>\n",
       "      <td>19.6</td>\n",
       "      <td>8.471429</td>\n",
       "    </tr>\n",
       "    <tr>\n",
       "      <th>6</th>\n",
       "      <td>7</td>\n",
       "      <td>2.0</td>\n",
       "      <td>30.0</td>\n",
       "      <td>13.546392</td>\n",
       "      <td>1.1</td>\n",
       "      <td>23.2</td>\n",
       "      <td>7.466990</td>\n",
       "    </tr>\n",
       "    <tr>\n",
       "      <th>7</th>\n",
       "      <td>8</td>\n",
       "      <td>30.0</td>\n",
       "      <td>30.0</td>\n",
       "      <td>30.000000</td>\n",
       "      <td>1.1</td>\n",
       "      <td>14.4</td>\n",
       "      <td>8.781633</td>\n",
       "    </tr>\n",
       "    <tr>\n",
       "      <th>8</th>\n",
       "      <td>9</td>\n",
       "      <td>6.0</td>\n",
       "      <td>30.0</td>\n",
       "      <td>24.260870</td>\n",
       "      <td>1.2</td>\n",
       "      <td>19.3</td>\n",
       "      <td>7.607895</td>\n",
       "    </tr>\n",
       "    <tr>\n",
       "      <th>9</th>\n",
       "      <td>10</td>\n",
       "      <td>12.0</td>\n",
       "      <td>30.0</td>\n",
       "      <td>20.746377</td>\n",
       "      <td>1.0</td>\n",
       "      <td>24.2</td>\n",
       "      <td>8.651049</td>\n",
       "    </tr>\n",
       "  </tbody>\n",
       "</table>\n",
       "</div>"
      ],
      "text/plain": [
       "  user_id days_since_prior_order                  prices                \n",
       "                             min   max       mean    min   max      mean\n",
       "0       1                    0.0  30.0  20.259259    1.0  14.0  6.367797\n",
       "1       2                    3.0  30.0  15.967033    1.3  14.8  7.515897\n",
       "2       3                    7.0  21.0  11.487179    1.3  14.4  8.197727\n",
       "3       4                    0.0  21.0  15.357143    1.4  14.6  8.205556\n",
       "4       5                   10.0  19.0  14.500000    3.2  14.8  9.189189\n",
       "5       6                    6.0  12.0   7.800000    1.8  19.6  8.471429\n",
       "6       7                    2.0  30.0  13.546392    1.1  23.2  7.466990\n",
       "7       8                   30.0  30.0  30.000000    1.1  14.4  8.781633\n",
       "8       9                    6.0  30.0  24.260870    1.2  19.3  7.607895\n",
       "9      10                   12.0  30.0  20.746377    1.0  24.2  8.651049"
      ]
     },
     "execution_count": 146,
     "metadata": {},
     "output_type": "execute_result"
    }
   ],
   "source": [
    "aggregations.head(10)"
   ]
  },
  {
   "cell_type": "markdown",
   "id": "ff907c05",
   "metadata": {},
   "source": [
    "# Gender visualization"
   ]
  },
  {
   "cell_type": "code",
   "execution_count": 148,
   "id": "e6e8cecb",
   "metadata": {},
   "outputs": [
    {
     "data": {
      "image/png": "[encoded data removed]",
      "text/plain": [
       "<Figure size 640x480 with 1 Axes>"
      ]
     },
     "metadata": {},
     "output_type": "display_data"
    }
   ],
   "source": [
    "# bar chart for gender\n",
    "bar_gender = df_cust_merge['Gender'].value_counts().sort_index().plot.bar()"
   ]
  },
  {
   "cell_type": "code",
   "execution_count": 149,
   "id": "24122a59",
   "metadata": {},
   "outputs": [],
   "source": [
    "#saving bar for gender\n",
    "bar_gender.figure.savefig(os.path.join(path, '04 Analysis','Visualization', 'bar_gender.png'))"
   ]
  },
  {
   "cell_type": "code",
   "execution_count": 151,
   "id": "d6deb575",
   "metadata": {},
   "outputs": [
    {
     "data": {
      "text/plain": [
       "Male      16329623\n",
       "Female    16104589\n",
       "Name: Gender, dtype: int64"
      ]
     },
     "execution_count": 151,
     "metadata": {},
     "output_type": "execute_result"
    }
   ],
   "source": [
    "#checking count\n",
    "df_cust_merge['Gender'].value_counts(dropna = False)"
   ]
  },
  {
   "cell_type": "markdown",
   "id": "cb742439",
   "metadata": {},
   "source": [
    "# Frequency Visulizations"
   ]
  },
  {
   "cell_type": "code",
   "execution_count": 153,
   "id": "e6fa61e4",
   "metadata": {},
   "outputs": [],
   "source": [
    "# stacked bar chart of frequency and age\n",
    "freq_age = df_cust_merge.groupby(['order_frequency_flag','age_flag']).size().unstack(fill_value=0)"
   ]
  },
  {
   "cell_type": "code",
   "execution_count": 154,
   "id": "f8cfcb37",
   "metadata": {},
   "outputs": [
    {
     "data": {
      "image/png": "[encoded data removed]",
      "text/plain": [
       "<Figure size 640x480 with 1 Axes>"
      ]
     },
     "metadata": {},
     "output_type": "display_data"
    }
   ],
   "source": [
    "# bar chart for freq and age\n",
    "freq_age = freq_age.plot.bar(stacked=False )"
   ]
  },
  {
   "cell_type": "code",
   "execution_count": 155,
   "id": "72dd1351",
   "metadata": {},
   "outputs": [],
   "source": [
    "#saving bar for freq and age\n",
    "freq_age.figure.savefig(os.path.join(path, '04 Analysis','Visualization', 'bar_freq_age.png'))"
   ]
  },
  {
   "cell_type": "code",
   "execution_count": 157,
   "id": "779ec39b",
   "metadata": {},
   "outputs": [],
   "source": [
    "# stacked bar chart of frequency and kids\n",
    "freq_kid = df_cust_merge.groupby(['order_frequency_flag','kids']).size().unstack(fill_value=0)"
   ]
  },
  {
   "cell_type": "code",
   "execution_count": 158,
   "id": "f0b31862",
   "metadata": {},
   "outputs": [
    {
     "data": {
      "image/png": "[encoded data removed]",
      "text/plain": [
       "<Figure size 640x480 with 1 Axes>"
      ]
     },
     "metadata": {},
     "output_type": "display_data"
    }
   ],
   "source": [
    "#bar chart for freq and kid\n",
    "freq_kid = freq_kid.plot.bar(stacked=False )"
   ]
  },
  {
   "cell_type": "code",
   "execution_count": 159,
   "id": "55013fc9",
   "metadata": {},
   "outputs": [],
   "source": [
    "#saving bar for freq and kid\n",
    "freq_kid.figure.savefig(os.path.join(path, '04 Analysis','Visualization', 'bar_freq_kid.png'))"
   ]
  },
  {
   "cell_type": "code",
   "execution_count": 160,
   "id": "4e31bd5d",
   "metadata": {},
   "outputs": [],
   "source": [
    "# stacked bar chart of frequency and income\n",
    "freq_income = df_cust_merge.groupby(['order_frequency_flag','income_flag']).size().unstack(fill_value=0)"
   ]
  },
  {
   "cell_type": "code",
   "execution_count": 161,
   "id": "5ec8f095",
   "metadata": {},
   "outputs": [
    {
     "data": {
      "image/png": "[encoded data removed]",
      "text/plain": [
       "<Figure size 640x480 with 1 Axes>"
      ]
     },
     "metadata": {},
     "output_type": "display_data"
    }
   ],
   "source": [
    "#bar chart for freq and income\n",
    "freq_income = freq_income.plot.bar(stacked=False )"
   ]
  },
  {
   "cell_type": "code",
   "execution_count": 162,
   "id": "5a0053f4",
   "metadata": {},
   "outputs": [],
   "source": [
    "#saving bar for freq and kid\n",
    "freq_kid.figure.savefig(os.path.join(path, '04 Analysis','Visualization', 'bar_freq_kid.png'))"
   ]
  },
  {
   "cell_type": "code",
   "execution_count": 164,
   "id": "1234aee1",
   "metadata": {},
   "outputs": [],
   "source": [
    "# export data to pkl\n",
    "\n",
    "df_cust_merge.to_pickle(os.path.join(path, '02 Data','Prepared Data', 'ords_prods_all_task_4_10.pkl'))"
   ]
  },
  {
   "cell_type": "code",
   "execution_count": null,
   "id": "49dfb706",
   "metadata": {},
   "outputs": [],
   "source": []
  }
 ],
 "metadata": {
  "kernelspec": {
   "display_name": "Python 3 (ipykernel)",
   "language": "python",
   "name": "python3"
  },
  "language_info": {
   "codemirror_mode": {
    "name": "ipython",
    "version": 3
   },
   "file_extension": ".py",
   "mimetype": "text/x-python",
   "name": "python",
   "nbconvert_exporter": "python",
   "pygments_lexer": "ipython3",
   "version": "3.10.9"
  }
 },
 "nbformat": 4,
 "nbformat_minor": 5
}
